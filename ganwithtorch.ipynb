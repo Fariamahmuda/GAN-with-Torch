{
 "cells": [
  {
   "cell_type": "code",
   "execution_count": 1,
   "id": "593ed7d7",
   "metadata": {
    "execution": {
     "iopub.execute_input": "2022-12-04T16:18:37.423748Z",
     "iopub.status.busy": "2022-12-04T16:18:37.423162Z",
     "iopub.status.idle": "2022-12-04T16:18:39.126296Z",
     "shell.execute_reply": "2022-12-04T16:18:39.125373Z"
    },
    "papermill": {
     "duration": 1.730221,
     "end_time": "2022-12-04T16:18:39.129150",
     "exception": false,
     "start_time": "2022-12-04T16:18:37.398929",
     "status": "completed"
    },
    "tags": []
   },
   "outputs": [],
   "source": [
    "# importing necessary tools\n",
    "import os## accessing directory structure\n",
    "import time #Python time module allows to work with time in Python. It allows functionality like getting the current time, pausing the Program from executing, etc. So before starting with this module we need to import it\n",
    "import numpy as np\n",
    "\n",
    "import torch #PyTorch is a Python package that provides two high-level features: Tensor computation (like NumPy) with strong GPU acceleration. Deep neural networks built on a tape-based autograd system.\n",
    "import torch.nn as nn \n",
    "#The torch. nn import gives us access to some helpful neural network things, such as various neural network layer types (things like regular fully-connected layers, convolutional layers (for imagery), recurrent layers...etc).\n",
    "import torch.nn.functional as F#Applies a 1D transposed convolution operator over an input signal composed of several input planes, sometimes also called \"deconvolution\". conv_transpose2d.\n",
    "\n",
    "from torchvision import datasets # torchvision is used for image processing\n",
    "from torch.utils.data import DataLoader## to read API data\n",
    "import torchvision.transforms as transforms # Trasforms is used to move one format to another\n",
    "from torch import optim ## adam optimizer\n",
    "from torchvision.transforms.functional import to_pil_image\n",
    "#PIL is the Python Imaging Library which provides the python interpreter with image editing capabilities.\n",
    "#pil_to_tensor #Convert a PIL Image to a tensor of the same type. This function does not support torchscript.\n",
    "\n",
    "\n",
    "import matplotlib.pyplot as plt\n",
    "import warnings\n",
    "warnings.filterwarnings('ignore')\n",
    "%matplotlib inline\n",
    "\n",
    "# GAN is used forimage enhencement, restore the image, increment or decrement the images\n",
    "# deffusion:High Fidelity Image Generation Using Diffusion Models.\n",
    "#Stable Diffusion is a latent text-to-image diffusion model capable of generating photo-realistic images given any text input"
   ]
  },
  {
   "cell_type": "code",
   "execution_count": 2,
   "id": "9d86711d",
   "metadata": {
    "execution": {
     "iopub.execute_input": "2022-12-04T16:18:39.153762Z",
     "iopub.status.busy": "2022-12-04T16:18:39.153295Z",
     "iopub.status.idle": "2022-12-04T16:18:39.215858Z",
     "shell.execute_reply": "2022-12-04T16:18:39.214815Z"
    },
    "papermill": {
     "duration": 0.07784,
     "end_time": "2022-12-04T16:18:39.217974",
     "exception": false,
     "start_time": "2022-12-04T16:18:39.140134",
     "status": "completed"
    },
    "tags": []
   },
   "outputs": [],
   "source": [
    "device= torch.device(\"cuda\" if torch.cuda.is_available() else \"cpu\")\n",
    "#CUDA (or Compute Unified Device Architecture) is a parallel computing platform and application programming interface (API) \n",
    "#that allows software to use certain types of graphics processing units (GPUs) for general purpose processing,\n",
    "#an approach called general-purpose computing on GPUs (GPGPU).\n",
    "\n",
    "#cuda. is_available. Returns a bool indicating if CUDA is currently available."
   ]
  },
  {
   "cell_type": "code",
   "execution_count": 3,
   "id": "be381991",
   "metadata": {
    "execution": {
     "iopub.execute_input": "2022-12-04T16:18:39.241390Z",
     "iopub.status.busy": "2022-12-04T16:18:39.240408Z",
     "iopub.status.idle": "2022-12-04T16:18:39.250830Z",
     "shell.execute_reply": "2022-12-04T16:18:39.249934Z"
    },
    "papermill": {
     "duration": 0.024284,
     "end_time": "2022-12-04T16:18:39.252937",
     "exception": false,
     "start_time": "2022-12-04T16:18:39.228653",
     "status": "completed"
    },
    "tags": []
   },
   "outputs": [
    {
     "data": {
      "text/plain": [
       "device(type='cuda')"
      ]
     },
     "execution_count": 3,
     "metadata": {},
     "output_type": "execute_result"
    }
   ],
   "source": [
    "device"
   ]
  },
  {
   "cell_type": "code",
   "execution_count": 4,
   "id": "ed677094",
   "metadata": {
    "execution": {
     "iopub.execute_input": "2022-12-04T16:18:39.277547Z",
     "iopub.status.busy": "2022-12-04T16:18:39.275967Z",
     "iopub.status.idle": "2022-12-04T16:18:39.280630Z",
     "shell.execute_reply": "2022-12-04T16:18:39.279745Z"
    },
    "papermill": {
     "duration": 0.018641,
     "end_time": "2022-12-04T16:18:39.282619",
     "exception": false,
     "start_time": "2022-12-04T16:18:39.263978",
     "status": "completed"
    },
    "tags": []
   },
   "outputs": [],
   "source": [
    "#os.makedirs('../working/Datasets/')"
   ]
  },
  {
   "cell_type": "code",
   "execution_count": 5,
   "id": "55848715",
   "metadata": {
    "execution": {
     "iopub.execute_input": "2022-12-04T16:18:39.305220Z",
     "iopub.status.busy": "2022-12-04T16:18:39.304463Z",
     "iopub.status.idle": "2022-12-04T16:18:39.309498Z",
     "shell.execute_reply": "2022-12-04T16:18:39.308707Z"
    },
    "papermill": {
     "duration": 0.01823,
     "end_time": "2022-12-04T16:18:39.311397",
     "exception": false,
     "start_time": "2022-12-04T16:18:39.293167",
     "status": "completed"
    },
    "tags": []
   },
   "outputs": [],
   "source": [
    "dataPath = \"../working/Datasets/\"\n",
    "os.makedirs(dataPath, exist_ok = True)"
   ]
  },
  {
   "cell_type": "code",
   "execution_count": 6,
   "id": "f9262e40",
   "metadata": {
    "execution": {
     "iopub.execute_input": "2022-12-04T16:18:39.335259Z",
     "iopub.status.busy": "2022-12-04T16:18:39.334500Z",
     "iopub.status.idle": "2022-12-04T16:18:39.338639Z",
     "shell.execute_reply": "2022-12-04T16:18:39.337505Z"
    },
    "papermill": {
     "duration": 0.018164,
     "end_time": "2022-12-04T16:18:39.340628",
     "exception": false,
     "start_time": "2022-12-04T16:18:39.322464",
     "status": "completed"
    },
    "tags": []
   },
   "outputs": [],
   "source": [
    "#from keras.datasets import mnist\n",
    "#x,y = mnist.load_data()"
   ]
  },
  {
   "cell_type": "code",
   "execution_count": 7,
   "id": "0381847f",
   "metadata": {
    "execution": {
     "iopub.execute_input": "2022-12-04T16:18:39.363772Z",
     "iopub.status.busy": "2022-12-04T16:18:39.363008Z",
     "iopub.status.idle": "2022-12-04T16:18:41.103794Z",
     "shell.execute_reply": "2022-12-04T16:18:41.102635Z"
    },
    "papermill": {
     "duration": 1.754893,
     "end_time": "2022-12-04T16:18:41.106348",
     "exception": false,
     "start_time": "2022-12-04T16:18:39.351455",
     "status": "completed"
    },
    "tags": []
   },
   "outputs": [
    {
     "name": "stdout",
     "output_type": "stream",
     "text": [
      "Downloading http://yann.lecun.com/exdb/mnist/train-images-idx3-ubyte.gz\n",
      "Downloading http://yann.lecun.com/exdb/mnist/train-images-idx3-ubyte.gz to ../working/Datasets/MNIST/raw/train-images-idx3-ubyte.gz\n"
     ]
    },
    {
     "data": {
      "application/vnd.jupyter.widget-view+json": {
       "model_id": "983d86d2204747b6bb0597b75199a8bd",
       "version_major": 2,
       "version_minor": 0
      },
      "text/plain": [
       "  0%|          | 0/9912422 [00:00<?, ?it/s]"
      ]
     },
     "metadata": {},
     "output_type": "display_data"
    },
    {
     "name": "stdout",
     "output_type": "stream",
     "text": [
      "Extracting ../working/Datasets/MNIST/raw/train-images-idx3-ubyte.gz to ../working/Datasets/MNIST/raw\n",
      "\n",
      "Downloading http://yann.lecun.com/exdb/mnist/train-labels-idx1-ubyte.gz\n",
      "Downloading http://yann.lecun.com/exdb/mnist/train-labels-idx1-ubyte.gz to ../working/Datasets/MNIST/raw/train-labels-idx1-ubyte.gz\n"
     ]
    },
    {
     "data": {
      "application/vnd.jupyter.widget-view+json": {
       "model_id": "a4bac3b5ad354698941f680b5d1eeea1",
       "version_major": 2,
       "version_minor": 0
      },
      "text/plain": [
       "  0%|          | 0/28881 [00:00<?, ?it/s]"
      ]
     },
     "metadata": {},
     "output_type": "display_data"
    },
    {
     "name": "stdout",
     "output_type": "stream",
     "text": [
      "Extracting ../working/Datasets/MNIST/raw/train-labels-idx1-ubyte.gz to ../working/Datasets/MNIST/raw\n",
      "\n",
      "Downloading http://yann.lecun.com/exdb/mnist/t10k-images-idx3-ubyte.gz\n",
      "Downloading http://yann.lecun.com/exdb/mnist/t10k-images-idx3-ubyte.gz to ../working/Datasets/MNIST/raw/t10k-images-idx3-ubyte.gz\n"
     ]
    },
    {
     "data": {
      "application/vnd.jupyter.widget-view+json": {
       "model_id": "7e17b5878c2d417484b32c551dff8874",
       "version_major": 2,
       "version_minor": 0
      },
      "text/plain": [
       "  0%|          | 0/1648877 [00:00<?, ?it/s]"
      ]
     },
     "metadata": {},
     "output_type": "display_data"
    },
    {
     "name": "stdout",
     "output_type": "stream",
     "text": [
      "Extracting ../working/Datasets/MNIST/raw/t10k-images-idx3-ubyte.gz to ../working/Datasets/MNIST/raw\n",
      "\n",
      "Downloading http://yann.lecun.com/exdb/mnist/t10k-labels-idx1-ubyte.gz\n",
      "Downloading http://yann.lecun.com/exdb/mnist/t10k-labels-idx1-ubyte.gz to ../working/Datasets/MNIST/raw/t10k-labels-idx1-ubyte.gz\n"
     ]
    },
    {
     "data": {
      "application/vnd.jupyter.widget-view+json": {
       "model_id": "7bf35dfda35949dd91d208870d611cab",
       "version_major": 2,
       "version_minor": 0
      },
      "text/plain": [
       "  0%|          | 0/4542 [00:00<?, ?it/s]"
      ]
     },
     "metadata": {},
     "output_type": "display_data"
    },
    {
     "name": "stdout",
     "output_type": "stream",
     "text": [
      "Extracting ../working/Datasets/MNIST/raw/t10k-labels-idx1-ubyte.gz to ../working/Datasets/MNIST/raw\n",
      "\n"
     ]
    }
   ],
   "source": [
    "trainDatasets = datasets.MNIST(dataPath,\n",
    "                              train = True,\n",
    "                              download = True,\n",
    "                              transform = transforms.Compose([transforms.ToTensor(),  # composed used for marging\n",
    "                                           transforms.Normalize([0.5],[0.5])])) # value of mean and std"
   ]
  },
  {
   "cell_type": "code",
   "execution_count": 8,
   "id": "d9596963",
   "metadata": {
    "execution": {
     "iopub.execute_input": "2022-12-04T16:18:41.131619Z",
     "iopub.status.busy": "2022-12-04T16:18:41.130701Z",
     "iopub.status.idle": "2022-12-04T16:18:41.135597Z",
     "shell.execute_reply": "2022-12-04T16:18:41.134652Z"
    },
    "papermill": {
     "duration": 0.019216,
     "end_time": "2022-12-04T16:18:41.137653",
     "exception": false,
     "start_time": "2022-12-04T16:18:41.118437",
     "status": "completed"
    },
    "tags": []
   },
   "outputs": [],
   "source": [
    "\n",
    "# Image transformation is a process to change the original values of image pixels to a set of new values. \n",
    "# One type of transformation that we do on images is to transform an image into a PyTorch tensor.\n",
    "# When an image is transformed into a PyTorch tensor, the pixel values are scaled between 0.0 and 1.0.\n",
    "# In PyTorch, this transformation can be done using torchvision.transforms.ToTensor(). \n",
    "# It converts the PIL image with a pixel range of [0, 255] to a PyTorch FloatTensor of shape (C, H, W)\n",
    "# with a range [0.0, 1.0]. "
   ]
  },
  {
   "cell_type": "code",
   "execution_count": 9,
   "id": "20dd300f",
   "metadata": {
    "collapsed": true,
    "execution": {
     "iopub.execute_input": "2022-12-04T16:18:41.162256Z",
     "iopub.status.busy": "2022-12-04T16:18:41.161425Z",
     "iopub.status.idle": "2022-12-04T16:18:41.177134Z",
     "shell.execute_reply": "2022-12-04T16:18:41.176170Z"
    },
    "jupyter": {
     "outputs_hidden": true
    },
    "papermill": {
     "duration": 0.030566,
     "end_time": "2022-12-04T16:18:41.179380",
     "exception": false,
     "start_time": "2022-12-04T16:18:41.148814",
     "status": "completed"
    },
    "tags": []
   },
   "outputs": [
    {
     "data": {
      "text/plain": [
       "(tensor([[[-1.0000, -1.0000, -1.0000, -1.0000, -1.0000, -1.0000, -1.0000,\n",
       "           -1.0000, -1.0000, -1.0000, -1.0000, -1.0000, -1.0000, -1.0000,\n",
       "           -1.0000, -1.0000, -1.0000, -1.0000, -1.0000, -1.0000, -1.0000,\n",
       "           -1.0000, -1.0000, -1.0000, -1.0000, -1.0000, -1.0000, -1.0000],\n",
       "          [-1.0000, -1.0000, -1.0000, -1.0000, -1.0000, -1.0000, -1.0000,\n",
       "           -1.0000, -1.0000, -1.0000, -1.0000, -1.0000, -1.0000, -1.0000,\n",
       "           -1.0000, -1.0000, -1.0000, -1.0000, -1.0000, -1.0000, -1.0000,\n",
       "           -1.0000, -1.0000, -1.0000, -1.0000, -1.0000, -1.0000, -1.0000],\n",
       "          [-1.0000, -1.0000, -1.0000, -1.0000, -1.0000, -1.0000, -1.0000,\n",
       "           -1.0000, -1.0000, -1.0000, -1.0000, -1.0000, -1.0000, -1.0000,\n",
       "           -1.0000, -1.0000, -1.0000, -1.0000, -1.0000, -1.0000, -1.0000,\n",
       "           -1.0000, -1.0000, -1.0000, -1.0000, -1.0000, -1.0000, -1.0000],\n",
       "          [-1.0000, -1.0000, -1.0000, -1.0000, -1.0000, -1.0000, -1.0000,\n",
       "           -1.0000, -1.0000, -1.0000, -1.0000, -1.0000, -1.0000, -1.0000,\n",
       "           -1.0000, -1.0000, -1.0000, -1.0000, -1.0000, -1.0000, -1.0000,\n",
       "           -1.0000, -1.0000, -1.0000, -1.0000, -1.0000, -1.0000, -1.0000],\n",
       "          [-1.0000, -1.0000, -1.0000, -1.0000, -1.0000, -1.0000, -1.0000,\n",
       "           -1.0000, -1.0000, -1.0000, -1.0000, -1.0000, -1.0000, -1.0000,\n",
       "           -1.0000, -1.0000, -1.0000, -1.0000, -1.0000, -1.0000, -1.0000,\n",
       "           -1.0000, -1.0000, -1.0000, -1.0000, -1.0000, -1.0000, -1.0000],\n",
       "          [-1.0000, -1.0000, -1.0000, -1.0000, -1.0000, -1.0000, -1.0000,\n",
       "           -1.0000, -1.0000, -1.0000, -1.0000, -1.0000, -0.9765, -0.8588,\n",
       "           -0.8588, -0.8588, -0.0118,  0.0667,  0.3725, -0.7961,  0.3020,\n",
       "            1.0000,  0.9373, -0.0039, -1.0000, -1.0000, -1.0000, -1.0000],\n",
       "          [-1.0000, -1.0000, -1.0000, -1.0000, -1.0000, -1.0000, -1.0000,\n",
       "           -1.0000, -0.7647, -0.7176, -0.2627,  0.2078,  0.3333,  0.9843,\n",
       "            0.9843,  0.9843,  0.9843,  0.9843,  0.7647,  0.3490,  0.9843,\n",
       "            0.8980,  0.5294, -0.4980, -1.0000, -1.0000, -1.0000, -1.0000],\n",
       "          [-1.0000, -1.0000, -1.0000, -1.0000, -1.0000, -1.0000, -1.0000,\n",
       "           -0.6157,  0.8667,  0.9843,  0.9843,  0.9843,  0.9843,  0.9843,\n",
       "            0.9843,  0.9843,  0.9843,  0.9686, -0.2706, -0.3569, -0.3569,\n",
       "           -0.5608, -0.6941, -1.0000, -1.0000, -1.0000, -1.0000, -1.0000],\n",
       "          [-1.0000, -1.0000, -1.0000, -1.0000, -1.0000, -1.0000, -1.0000,\n",
       "           -0.8588,  0.7176,  0.9843,  0.9843,  0.9843,  0.9843,  0.9843,\n",
       "            0.5529,  0.4275,  0.9373,  0.8902, -1.0000, -1.0000, -1.0000,\n",
       "           -1.0000, -1.0000, -1.0000, -1.0000, -1.0000, -1.0000, -1.0000],\n",
       "          [-1.0000, -1.0000, -1.0000, -1.0000, -1.0000, -1.0000, -1.0000,\n",
       "           -1.0000, -0.3725,  0.2235, -0.1608,  0.9843,  0.9843,  0.6078,\n",
       "           -0.9137, -1.0000, -0.6627,  0.2078, -1.0000, -1.0000, -1.0000,\n",
       "           -1.0000, -1.0000, -1.0000, -1.0000, -1.0000, -1.0000, -1.0000],\n",
       "          [-1.0000, -1.0000, -1.0000, -1.0000, -1.0000, -1.0000, -1.0000,\n",
       "           -1.0000, -1.0000, -0.8902, -0.9922,  0.2078,  0.9843, -0.2941,\n",
       "           -1.0000, -1.0000, -1.0000, -1.0000, -1.0000, -1.0000, -1.0000,\n",
       "           -1.0000, -1.0000, -1.0000, -1.0000, -1.0000, -1.0000, -1.0000],\n",
       "          [-1.0000, -1.0000, -1.0000, -1.0000, -1.0000, -1.0000, -1.0000,\n",
       "           -1.0000, -1.0000, -1.0000, -1.0000,  0.0902,  0.9843,  0.4902,\n",
       "           -0.9843, -1.0000, -1.0000, -1.0000, -1.0000, -1.0000, -1.0000,\n",
       "           -1.0000, -1.0000, -1.0000, -1.0000, -1.0000, -1.0000, -1.0000],\n",
       "          [-1.0000, -1.0000, -1.0000, -1.0000, -1.0000, -1.0000, -1.0000,\n",
       "           -1.0000, -1.0000, -1.0000, -1.0000, -0.9137,  0.4902,  0.9843,\n",
       "           -0.4510, -1.0000, -1.0000, -1.0000, -1.0000, -1.0000, -1.0000,\n",
       "           -1.0000, -1.0000, -1.0000, -1.0000, -1.0000, -1.0000, -1.0000],\n",
       "          [-1.0000, -1.0000, -1.0000, -1.0000, -1.0000, -1.0000, -1.0000,\n",
       "           -1.0000, -1.0000, -1.0000, -1.0000, -1.0000, -0.7255,  0.8902,\n",
       "            0.7647,  0.2549, -0.1529, -0.9922, -1.0000, -1.0000, -1.0000,\n",
       "           -1.0000, -1.0000, -1.0000, -1.0000, -1.0000, -1.0000, -1.0000],\n",
       "          [-1.0000, -1.0000, -1.0000, -1.0000, -1.0000, -1.0000, -1.0000,\n",
       "           -1.0000, -1.0000, -1.0000, -1.0000, -1.0000, -1.0000, -0.3647,\n",
       "            0.8824,  0.9843,  0.9843, -0.0667, -0.8039, -1.0000, -1.0000,\n",
       "           -1.0000, -1.0000, -1.0000, -1.0000, -1.0000, -1.0000, -1.0000],\n",
       "          [-1.0000, -1.0000, -1.0000, -1.0000, -1.0000, -1.0000, -1.0000,\n",
       "           -1.0000, -1.0000, -1.0000, -1.0000, -1.0000, -1.0000, -1.0000,\n",
       "           -0.6471,  0.4588,  0.9843,  0.9843,  0.1765, -0.7882, -1.0000,\n",
       "           -1.0000, -1.0000, -1.0000, -1.0000, -1.0000, -1.0000, -1.0000],\n",
       "          [-1.0000, -1.0000, -1.0000, -1.0000, -1.0000, -1.0000, -1.0000,\n",
       "           -1.0000, -1.0000, -1.0000, -1.0000, -1.0000, -1.0000, -1.0000,\n",
       "           -1.0000, -0.8745, -0.2706,  0.9765,  0.9843,  0.4667, -1.0000,\n",
       "           -1.0000, -1.0000, -1.0000, -1.0000, -1.0000, -1.0000, -1.0000],\n",
       "          [-1.0000, -1.0000, -1.0000, -1.0000, -1.0000, -1.0000, -1.0000,\n",
       "           -1.0000, -1.0000, -1.0000, -1.0000, -1.0000, -1.0000, -1.0000,\n",
       "           -1.0000, -1.0000, -1.0000,  0.9529,  0.9843,  0.9529, -0.4980,\n",
       "           -1.0000, -1.0000, -1.0000, -1.0000, -1.0000, -1.0000, -1.0000],\n",
       "          [-1.0000, -1.0000, -1.0000, -1.0000, -1.0000, -1.0000, -1.0000,\n",
       "           -1.0000, -1.0000, -1.0000, -1.0000, -1.0000, -1.0000, -1.0000,\n",
       "           -0.6392,  0.0196,  0.4353,  0.9843,  0.9843,  0.6235, -0.9843,\n",
       "           -1.0000, -1.0000, -1.0000, -1.0000, -1.0000, -1.0000, -1.0000],\n",
       "          [-1.0000, -1.0000, -1.0000, -1.0000, -1.0000, -1.0000, -1.0000,\n",
       "           -1.0000, -1.0000, -1.0000, -1.0000, -1.0000, -0.6941,  0.1608,\n",
       "            0.7961,  0.9843,  0.9843,  0.9843,  0.9608,  0.4275, -1.0000,\n",
       "           -1.0000, -1.0000, -1.0000, -1.0000, -1.0000, -1.0000, -1.0000],\n",
       "          [-1.0000, -1.0000, -1.0000, -1.0000, -1.0000, -1.0000, -1.0000,\n",
       "           -1.0000, -1.0000, -1.0000, -0.8118, -0.1059,  0.7333,  0.9843,\n",
       "            0.9843,  0.9843,  0.9843,  0.5765, -0.3882, -1.0000, -1.0000,\n",
       "           -1.0000, -1.0000, -1.0000, -1.0000, -1.0000, -1.0000, -1.0000],\n",
       "          [-1.0000, -1.0000, -1.0000, -1.0000, -1.0000, -1.0000, -1.0000,\n",
       "           -1.0000, -0.8196, -0.4824,  0.6706,  0.9843,  0.9843,  0.9843,\n",
       "            0.9843,  0.5529, -0.3647, -0.9843, -1.0000, -1.0000, -1.0000,\n",
       "           -1.0000, -1.0000, -1.0000, -1.0000, -1.0000, -1.0000, -1.0000],\n",
       "          [-1.0000, -1.0000, -1.0000, -1.0000, -1.0000, -1.0000, -0.8588,\n",
       "            0.3412,  0.7176,  0.9843,  0.9843,  0.9843,  0.9843,  0.5294,\n",
       "           -0.3725, -0.9294, -1.0000, -1.0000, -1.0000, -1.0000, -1.0000,\n",
       "           -1.0000, -1.0000, -1.0000, -1.0000, -1.0000, -1.0000, -1.0000],\n",
       "          [-1.0000, -1.0000, -1.0000, -1.0000, -0.5686,  0.3490,  0.7725,\n",
       "            0.9843,  0.9843,  0.9843,  0.9843,  0.9137,  0.0431, -0.9137,\n",
       "           -1.0000, -1.0000, -1.0000, -1.0000, -1.0000, -1.0000, -1.0000,\n",
       "           -1.0000, -1.0000, -1.0000, -1.0000, -1.0000, -1.0000, -1.0000],\n",
       "          [-1.0000, -1.0000, -1.0000, -1.0000,  0.0667,  0.9843,  0.9843,\n",
       "            0.9843,  0.6627,  0.0588,  0.0353, -0.8745, -1.0000, -1.0000,\n",
       "           -1.0000, -1.0000, -1.0000, -1.0000, -1.0000, -1.0000, -1.0000,\n",
       "           -1.0000, -1.0000, -1.0000, -1.0000, -1.0000, -1.0000, -1.0000],\n",
       "          [-1.0000, -1.0000, -1.0000, -1.0000, -1.0000, -1.0000, -1.0000,\n",
       "           -1.0000, -1.0000, -1.0000, -1.0000, -1.0000, -1.0000, -1.0000,\n",
       "           -1.0000, -1.0000, -1.0000, -1.0000, -1.0000, -1.0000, -1.0000,\n",
       "           -1.0000, -1.0000, -1.0000, -1.0000, -1.0000, -1.0000, -1.0000],\n",
       "          [-1.0000, -1.0000, -1.0000, -1.0000, -1.0000, -1.0000, -1.0000,\n",
       "           -1.0000, -1.0000, -1.0000, -1.0000, -1.0000, -1.0000, -1.0000,\n",
       "           -1.0000, -1.0000, -1.0000, -1.0000, -1.0000, -1.0000, -1.0000,\n",
       "           -1.0000, -1.0000, -1.0000, -1.0000, -1.0000, -1.0000, -1.0000],\n",
       "          [-1.0000, -1.0000, -1.0000, -1.0000, -1.0000, -1.0000, -1.0000,\n",
       "           -1.0000, -1.0000, -1.0000, -1.0000, -1.0000, -1.0000, -1.0000,\n",
       "           -1.0000, -1.0000, -1.0000, -1.0000, -1.0000, -1.0000, -1.0000,\n",
       "           -1.0000, -1.0000, -1.0000, -1.0000, -1.0000, -1.0000, -1.0000]]]),\n",
       " 5)"
      ]
     },
     "execution_count": 9,
     "metadata": {},
     "output_type": "execute_result"
    }
   ],
   "source": [
    "trainDatasets[0]\n",
    "##(0 index) because of normalization negetive value can come (*[0][1]/[10][1]/[1000][1])"
   ]
  },
  {
   "cell_type": "code",
   "execution_count": 10,
   "id": "156245f3",
   "metadata": {
    "execution": {
     "iopub.execute_input": "2022-12-04T16:18:41.203787Z",
     "iopub.status.busy": "2022-12-04T16:18:41.203040Z",
     "iopub.status.idle": "2022-12-04T16:18:41.401661Z",
     "shell.execute_reply": "2022-12-04T16:18:41.400566Z"
    },
    "papermill": {
     "duration": 0.213137,
     "end_time": "2022-12-04T16:18:41.403938",
     "exception": false,
     "start_time": "2022-12-04T16:18:41.190801",
     "status": "completed"
    },
    "tags": []
   },
   "outputs": [
    {
     "data": {
      "image/png": "[encoded data removed]",
      "text/plain": [
       "<Figure size 432x288 with 1 Axes>"
      ]
     },
     "metadata": {
      "needs_background": "light"
     },
     "output_type": "display_data"
    }
   ],
   "source": [
    "imageData, labelData = trainDatasets[0] # [10]/ [1000]\n",
    "plt.imshow(to_pil_image(imageData), cmap=\"gray\")\n",
    "plt.show()"
   ]
  },
  {
   "cell_type": "code",
   "execution_count": 11,
   "id": "3b457e0f",
   "metadata": {
    "execution": {
     "iopub.execute_input": "2022-12-04T16:18:41.429394Z",
     "iopub.status.busy": "2022-12-04T16:18:41.428547Z",
     "iopub.status.idle": "2022-12-04T16:18:41.433010Z",
     "shell.execute_reply": "2022-12-04T16:18:41.432189Z"
    },
    "papermill": {
     "duration": 0.019042,
     "end_time": "2022-12-04T16:18:41.434888",
     "exception": false,
     "start_time": "2022-12-04T16:18:41.415846",
     "status": "completed"
    },
    "tags": []
   },
   "outputs": [],
   "source": [
    "# def visualization():\n",
    "#     for i in range(np.random.randint(1,30000,10)):\n",
    "#         imageData, labelData = trainDatasets[0] # [10]/ [1000]\n",
    "#         plt.imshow(to_pil_image(imageData), cmap=\"gray\")\n",
    "#         plt.show()\n",
    "        "
   ]
  },
  {
   "cell_type": "code",
   "execution_count": 12,
   "id": "65cbbe2b",
   "metadata": {
    "execution": {
     "iopub.execute_input": "2022-12-04T16:18:41.459801Z",
     "iopub.status.busy": "2022-12-04T16:18:41.459036Z",
     "iopub.status.idle": "2022-12-04T16:18:41.463410Z",
     "shell.execute_reply": "2022-12-04T16:18:41.462608Z"
    },
    "papermill": {
     "duration": 0.018752,
     "end_time": "2022-12-04T16:18:41.465406",
     "exception": false,
     "start_time": "2022-12-04T16:18:41.446654",
     "status": "completed"
    },
    "tags": []
   },
   "outputs": [],
   "source": [
    "# randint=The randint() method returns an integer number selected element from the specified range.\n",
    "# randn =randn() function in Python is used to return random values from the normal distribution in a specified shape. \n",
    "#         This function creates an array of the given shape and it fills with random samples from the normal standard distribution.\n",
    "#         (it will return positive or negetive value)"
   ]
  },
  {
   "cell_type": "code",
   "execution_count": 13,
   "id": "3826fe78",
   "metadata": {
    "execution": {
     "iopub.execute_input": "2022-12-04T16:18:41.490232Z",
     "iopub.status.busy": "2022-12-04T16:18:41.489461Z",
     "iopub.status.idle": "2022-12-04T16:18:41.494863Z",
     "shell.execute_reply": "2022-12-04T16:18:41.494055Z"
    },
    "papermill": {
     "duration": 0.019623,
     "end_time": "2022-12-04T16:18:41.496764",
     "exception": false,
     "start_time": "2022-12-04T16:18:41.477141",
     "status": "completed"
    },
    "tags": []
   },
   "outputs": [],
   "source": [
    "trainDataLoader = DataLoader(trainDatasets, \n",
    "                             batch_size =64, \n",
    "                             shuffle =True)"
   ]
  },
  {
   "cell_type": "code",
   "execution_count": 14,
   "id": "f32c0eca",
   "metadata": {
    "execution": {
     "iopub.execute_input": "2022-12-04T16:18:41.521740Z",
     "iopub.status.busy": "2022-12-04T16:18:41.520890Z",
     "iopub.status.idle": "2022-12-04T16:18:41.546599Z",
     "shell.execute_reply": "2022-12-04T16:18:41.545388Z"
    },
    "papermill": {
     "duration": 0.040506,
     "end_time": "2022-12-04T16:18:41.549052",
     "exception": false,
     "start_time": "2022-12-04T16:18:41.508546",
     "status": "completed"
    },
    "tags": []
   },
   "outputs": [
    {
     "name": "stdout",
     "output_type": "stream",
     "text": [
      "X Data shape is :torch.Size([64, 1, 28, 28]) and Y Data shapebis torch.Size([64])\n"
     ]
    }
   ],
   "source": [
    "for x,y in trainDataLoader:\n",
    "    print(\"X Data shape is :{} and Y Data shapebis {}\". format(x.shape, y.shape))\n",
    "    break"
   ]
  },
  {
   "cell_type": "code",
   "execution_count": 15,
   "id": "1b0a7f4d",
   "metadata": {
    "execution": {
     "iopub.execute_input": "2022-12-04T16:18:41.574589Z",
     "iopub.status.busy": "2022-12-04T16:18:41.573980Z",
     "iopub.status.idle": "2022-12-04T16:18:41.581336Z",
     "shell.execute_reply": "2022-12-04T16:18:41.580375Z"
    },
    "papermill": {
     "duration": 0.021576,
     "end_time": "2022-12-04T16:18:41.583228",
     "exception": false,
     "start_time": "2022-12-04T16:18:41.561652",
     "status": "completed"
    },
    "tags": []
   },
   "outputs": [
    {
     "data": {
      "text/plain": [
       "2"
      ]
     },
     "execution_count": 15,
     "metadata": {},
     "output_type": "execute_result"
    }
   ],
   "source": [
    "len(trainDatasets[0])"
   ]
  },
  {
   "cell_type": "code",
   "execution_count": 16,
   "id": "ad8c5749",
   "metadata": {
    "execution": {
     "iopub.execute_input": "2022-12-04T16:18:41.608405Z",
     "iopub.status.busy": "2022-12-04T16:18:41.607572Z",
     "iopub.status.idle": "2022-12-04T16:18:41.611633Z",
     "shell.execute_reply": "2022-12-04T16:18:41.610839Z"
    },
    "papermill": {
     "duration": 0.018576,
     "end_time": "2022-12-04T16:18:41.613636",
     "exception": false,
     "start_time": "2022-12-04T16:18:41.595060",
     "status": "completed"
    },
    "tags": []
   },
   "outputs": [],
   "source": [
    "# np.prod([28,28]) # can be int or float\n",
    "# int(np.prod([28,28])) # alwasys will be int\n",
    "# int(np.prod([28,28,3]))"
   ]
  },
  {
   "cell_type": "code",
   "execution_count": 17,
   "id": "2d6f2b10",
   "metadata": {
    "execution": {
     "iopub.execute_input": "2022-12-04T16:18:41.638810Z",
     "iopub.status.busy": "2022-12-04T16:18:41.638056Z",
     "iopub.status.idle": "2022-12-04T16:18:41.650701Z",
     "shell.execute_reply": "2022-12-04T16:18:41.649721Z"
    },
    "papermill": {
     "duration": 0.027281,
     "end_time": "2022-12-04T16:18:41.652726",
     "exception": false,
     "start_time": "2022-12-04T16:18:41.625445",
     "status": "completed"
    },
    "tags": []
   },
   "outputs": [
    {
     "data": {
      "text/plain": [
       "Linear(in_features=1025, out_features=784, bias=True)"
      ]
     },
     "execution_count": 17,
     "metadata": {},
     "output_type": "execute_result"
    }
   ],
   "source": [
    "nn.Linear(1025,int(np.prod([28,28,1])))"
   ]
  },
  {
   "cell_type": "code",
   "execution_count": 18,
   "id": "a0126996",
   "metadata": {
    "execution": {
     "iopub.execute_input": "2022-12-04T16:18:41.677421Z",
     "iopub.status.busy": "2022-12-04T16:18:41.677165Z",
     "iopub.status.idle": "2022-12-04T16:18:41.685622Z",
     "shell.execute_reply": "2022-12-04T16:18:41.684737Z"
    },
    "papermill": {
     "duration": 0.023115,
     "end_time": "2022-12-04T16:18:41.687632",
     "exception": false,
     "start_time": "2022-12-04T16:18:41.664517",
     "status": "completed"
    },
    "tags": []
   },
   "outputs": [],
   "source": [
    "class Generator(nn.Module):  #This line class Generator(nn.Module):. simple means the Generator class will inherit the nn.Module class, it is not an argument.\n",
    "    def __init__(self,parameter):\n",
    "        # parent Class\n",
    "        super().__init__() # The super() function is used to give access to methods and properties of a parent or sibling class. The super() function returns an object that represents the parent class.\n",
    "        self.noise = parameter['noise']#Image noise is random variation of brightness or color information in images, and is usually an aspect of electronic noise. We can add noise to the image using noise() function. noise function can be useful when applied before a blur operation to defuse an image.\n",
    "        self.image_size =  parameter ['image_size']\n",
    "        \n",
    "        self.model = nn.Sequential(\n",
    "            *self.fc_layers(self.noise, 128, normalize = False),# (any number can be taken)\n",
    "            *self.fc_layers(128,256), # it will go from 128 to 256 as referance as to keep\n",
    "            *self.fc_layers(512,1024),\n",
    "            nn.Linear(1024, int(np.prod(self.image_size))),# for continuation of data workflow and it will support activition work# np,prod =Return the product of array elements over a given axis              \n",
    "            nn.Tanh() # conversion will happen from -1 to +1\n",
    "         )\n",
    "        def forward (self, z):\n",
    "            image =self. model(z)\n",
    "            image = image.view(image.size(0), * self.image_size) # stride [i](*= multiples items can be added in reference of image_size)(** also can be used here to add more parameter)                                                                                                                       \n",
    "            return image\n",
    "        \n",
    "        \n",
    "        def fc_layers(self, in_channel, out_channel, normalize = True):\n",
    "            layers = []\n",
    "            layers.append(nn.Linear(in_channel, out_channel))\n",
    "            \n",
    "            if normalize:\n",
    "                layers.append(nn.BatchNorm1d(out_channel, 0.8))\n",
    "                \n",
    "                \n",
    "            layers.append(nn.LeakyRelu(0.2))\n",
    "            return layers"
   ]
  },
  {
   "cell_type": "code",
   "execution_count": 19,
   "id": "84b26ab8",
   "metadata": {
    "execution": {
     "iopub.execute_input": "2022-12-04T16:18:41.712897Z",
     "iopub.status.busy": "2022-12-04T16:18:41.712173Z",
     "iopub.status.idle": "2022-12-04T16:18:41.720411Z",
     "shell.execute_reply": "2022-12-04T16:18:41.719552Z"
    },
    "papermill": {
     "duration": 0.022868,
     "end_time": "2022-12-04T16:18:41.722336",
     "exception": false,
     "start_time": "2022-12-04T16:18:41.699468",
     "status": "completed"
    },
    "tags": []
   },
   "outputs": [],
   "source": [
    "class Generator(nn.Module):\n",
    "    def __init__(self, parameter):\n",
    "        #Parent Class\n",
    "        super().__init__()\n",
    "        self.noise = parameter['noise']\n",
    "        self.image_size = parameter['image_size']\n",
    "        \n",
    "        \n",
    "        self.model =  nn.Sequential(\n",
    "            *self.fc_layers(self.noise, 128, normalize = False),\n",
    "            *self.fc_layers(128, 256),\n",
    "            *self.fc_layers(256, 512), \n",
    "            *self.fc_layers(512, 1024),\n",
    "            nn.Linear(1024, int(np.prod(self.image_size))),\n",
    "            nn.Tanh()\n",
    "        )\n",
    "        \n",
    "    def forward(self, z):\n",
    "        image = self.model(z)\n",
    "        image = image.view(image.size(0), *self.image_size)\n",
    "        return image\n",
    "    \n",
    "    \n",
    "    def fc_layers(self, in_channel,out_channel, normalize = True):\n",
    "        layers = []\n",
    "        layers.append(nn.Linear(in_channel, out_channel))\n",
    "        \n",
    "        if normalize:\n",
    "            layers.append(nn.BatchNorm1d(out_channel, 0.8))\n",
    "            \n",
    "        layers.append(nn.LeakyReLU(0.2))\n",
    "        return layers\n",
    "        "
   ]
  },
  {
   "cell_type": "code",
   "execution_count": 20,
   "id": "78f6e71a",
   "metadata": {
    "execution": {
     "iopub.execute_input": "2022-12-04T16:18:41.747889Z",
     "iopub.status.busy": "2022-12-04T16:18:41.747070Z",
     "iopub.status.idle": "2022-12-04T16:18:41.752018Z",
     "shell.execute_reply": "2022-12-04T16:18:41.751224Z"
    },
    "papermill": {
     "duration": 0.01992,
     "end_time": "2022-12-04T16:18:41.753907",
     "exception": false,
     "start_time": "2022-12-04T16:18:41.733987",
     "status": "completed"
    },
    "tags": []
   },
   "outputs": [],
   "source": [
    "# Fully Connected (FC) The fully connected layer (FC)operates on a flattened input where each input is connected to all neurons. If present,\n",
    "# FC layers are usually found towards the end of CNN architectures and can be used to optimize objectives such as class scores.\n",
    "\n",
    "\n",
    "# Image noise is random variation of brightness or color information in images, and is usually an aspect of electronic noise.\n",
    "# We can add noise to the image using noise() function.\n",
    "# noise function can be useful when applied before a blur operation to defuse an image.\n",
    "\n",
    "# The python __init__ method is declared within a class and is used to initialize the attributes of an object as soon as the object is formed.\n",
    "# While giving the definition for an __init__(self) method, a default parameter, named ‘self’ is always passed in its argument.\n",
    "# This self represents the object of the class itself.\n",
    "# Like in any other method of a class, in case of __init__ also ‘self’ is used as a dummy object variable for assigning values\n",
    "# to the data members of an object.The __init__ method is often referred to as double underscores init or dunder init for it has \n",
    "# two underscores on each side of its name.\n",
    "# These double underscores on both the sides of init imply that the method is invoked and used internally in Python, \n",
    "# without being required to be called explicitly by the object. "
   ]
  },
  {
   "cell_type": "code",
   "execution_count": 21,
   "id": "d4841aef",
   "metadata": {
    "execution": {
     "iopub.execute_input": "2022-12-04T16:18:41.778980Z",
     "iopub.status.busy": "2022-12-04T16:18:41.778190Z",
     "iopub.status.idle": "2022-12-04T16:18:41.782505Z",
     "shell.execute_reply": "2022-12-04T16:18:41.781730Z"
    },
    "papermill": {
     "duration": 0.018802,
     "end_time": "2022-12-04T16:18:41.784420",
     "exception": false,
     "start_time": "2022-12-04T16:18:41.765618",
     "status": "completed"
    },
    "tags": []
   },
   "outputs": [],
   "source": [
    "params = {'noise':100,\n",
    "        \"image_size\": (1,28,28)}"
   ]
  },
  {
   "cell_type": "code",
   "execution_count": 22,
   "id": "606a9780",
   "metadata": {
    "execution": {
     "iopub.execute_input": "2022-12-04T16:18:41.809461Z",
     "iopub.status.busy": "2022-12-04T16:18:41.808658Z",
     "iopub.status.idle": "2022-12-04T16:18:44.632708Z",
     "shell.execute_reply": "2022-12-04T16:18:44.631739Z"
    },
    "papermill": {
     "duration": 2.839084,
     "end_time": "2022-12-04T16:18:44.635172",
     "exception": false,
     "start_time": "2022-12-04T16:18:41.796088",
     "status": "completed"
    },
    "tags": []
   },
   "outputs": [],
   "source": [
    "x = torch.randn(16,100).to(device) # (16= noise value)some negetive value will put to reduce the image value or make blurry image"
   ]
  },
  {
   "cell_type": "code",
   "execution_count": 23,
   "id": "99488381",
   "metadata": {
    "execution": {
     "iopub.execute_input": "2022-12-04T16:18:44.661065Z",
     "iopub.status.busy": "2022-12-04T16:18:44.660745Z",
     "iopub.status.idle": "2022-12-04T16:18:44.699214Z",
     "shell.execute_reply": "2022-12-04T16:18:44.697748Z"
    },
    "papermill": {
     "duration": 0.053657,
     "end_time": "2022-12-04T16:18:44.701361",
     "exception": false,
     "start_time": "2022-12-04T16:18:44.647704",
     "status": "completed"
    },
    "tags": []
   },
   "outputs": [
    {
     "name": "stdout",
     "output_type": "stream",
     "text": [
      "tensor([[-0.3876, -0.6046, -0.9876,  ...,  1.4582, -0.9319, -1.2055],\n",
      "        [-0.3253, -0.2692, -3.1337,  ..., -0.1190,  1.9905,  1.4882],\n",
      "        [ 0.6193,  0.1597, -0.7892,  ...,  0.2708,  0.3876, -2.7297],\n",
      "        ...,\n",
      "        [ 0.4952, -0.4219,  0.3398,  ..., -0.8510,  0.6911, -0.3418],\n",
      "        [ 0.3117,  0.8186,  2.1902,  ...,  0.1927,  2.0736, -0.2263],\n",
      "        [-0.6456,  1.7601, -0.4769,  ...,  0.3116,  0.0651,  1.2446]],\n",
      "       device='cuda:0')\n"
     ]
    }
   ],
   "source": [
    "print(x)"
   ]
  },
  {
   "cell_type": "code",
   "execution_count": 24,
   "id": "145342a2",
   "metadata": {
    "execution": {
     "iopub.execute_input": "2022-12-04T16:18:44.726365Z",
     "iopub.status.busy": "2022-12-04T16:18:44.726087Z",
     "iopub.status.idle": "2022-12-04T16:18:44.748505Z",
     "shell.execute_reply": "2022-12-04T16:18:44.747671Z"
    },
    "papermill": {
     "duration": 0.037204,
     "end_time": "2022-12-04T16:18:44.750495",
     "exception": false,
     "start_time": "2022-12-04T16:18:44.713291",
     "status": "completed"
    },
    "tags": []
   },
   "outputs": [],
   "source": [
    "model_generator = Generator(params).to(device)"
   ]
  },
  {
   "cell_type": "code",
   "execution_count": 25,
   "id": "4ccadeec",
   "metadata": {
    "execution": {
     "iopub.execute_input": "2022-12-04T16:18:44.775843Z",
     "iopub.status.busy": "2022-12-04T16:18:44.775077Z",
     "iopub.status.idle": "2022-12-04T16:18:45.664783Z",
     "shell.execute_reply": "2022-12-04T16:18:45.663820Z"
    },
    "papermill": {
     "duration": 0.904702,
     "end_time": "2022-12-04T16:18:45.667162",
     "exception": false,
     "start_time": "2022-12-04T16:18:44.762460",
     "status": "completed"
    },
    "tags": []
   },
   "outputs": [],
   "source": [
    "model_generator_output = model_generator(x)"
   ]
  },
  {
   "cell_type": "code",
   "execution_count": 26,
   "id": "e9b75c83",
   "metadata": {
    "execution": {
     "iopub.execute_input": "2022-12-04T16:18:45.693276Z",
     "iopub.status.busy": "2022-12-04T16:18:45.692396Z",
     "iopub.status.idle": "2022-12-04T16:18:45.698024Z",
     "shell.execute_reply": "2022-12-04T16:18:45.697000Z"
    },
    "papermill": {
     "duration": 0.02042,
     "end_time": "2022-12-04T16:18:45.699867",
     "exception": false,
     "start_time": "2022-12-04T16:18:45.679447",
     "status": "completed"
    },
    "tags": []
   },
   "outputs": [
    {
     "name": "stdout",
     "output_type": "stream",
     "text": [
      "Our Generator model Output:torch.Size([16, 1, 28, 28])\n"
     ]
    }
   ],
   "source": [
    "print(\"Our Generator model Output:{}\". format(model_generator_output.shape))"
   ]
  },
  {
   "cell_type": "code",
   "execution_count": 27,
   "id": "34fe9940",
   "metadata": {
    "execution": {
     "iopub.execute_input": "2022-12-04T16:18:45.724883Z",
     "iopub.status.busy": "2022-12-04T16:18:45.724590Z",
     "iopub.status.idle": "2022-12-04T16:18:45.731440Z",
     "shell.execute_reply": "2022-12-04T16:18:45.730551Z"
    },
    "papermill": {
     "duration": 0.021634,
     "end_time": "2022-12-04T16:18:45.733412",
     "exception": false,
     "start_time": "2022-12-04T16:18:45.711778",
     "status": "completed"
    },
    "tags": []
   },
   "outputs": [],
   "source": [
    "class Discriminator(nn.Module):\n",
    "    def __init__(self, parameter):\n",
    "        #Parent Class\n",
    "        super().__init__()\n",
    "        self.image_size = parameter['image_size']\n",
    "        \n",
    "        self.model = nn.Sequential(nn.Linear(int(np.prod(self.image_size)), 512), \n",
    "                                  nn.LeakyReLU(0.2), \n",
    "                                   \n",
    "                                  nn.Linear(512, 256), \n",
    "                                  nn.LeakyReLU(0.2),\n",
    "                                   \n",
    "                                  nn.Linear(256, 128),\n",
    "                                  nn.LeakyReLU(0.2),\n",
    "                                   \n",
    "                                  nn.Linear(128, 1), \n",
    "                                  nn.Sigmoid()\n",
    "                                  )\n",
    "        \n",
    "    def forward(self, x):\n",
    "        x = x.view(x.size(0), -1)\n",
    "        x = self.model(x)\n",
    "        return x"
   ]
  },
  {
   "cell_type": "code",
   "execution_count": 28,
   "id": "ebfab5bb",
   "metadata": {
    "execution": {
     "iopub.execute_input": "2022-12-04T16:18:45.758877Z",
     "iopub.status.busy": "2022-12-04T16:18:45.758033Z",
     "iopub.status.idle": "2022-12-04T16:18:45.763116Z",
     "shell.execute_reply": "2022-12-04T16:18:45.762313Z"
    },
    "papermill": {
     "duration": 0.019759,
     "end_time": "2022-12-04T16:18:45.765005",
     "exception": false,
     "start_time": "2022-12-04T16:18:45.745246",
     "status": "completed"
    },
    "tags": []
   },
   "outputs": [],
   "source": [
    "x = torch.randn(16,1,28,28).to(device)"
   ]
  },
  {
   "cell_type": "code",
   "execution_count": 29,
   "id": "7b177aa9",
   "metadata": {
    "execution": {
     "iopub.execute_input": "2022-12-04T16:18:45.790355Z",
     "iopub.status.busy": "2022-12-04T16:18:45.789513Z",
     "iopub.status.idle": "2022-12-04T16:18:45.806807Z",
     "shell.execute_reply": "2022-12-04T16:18:45.805974Z"
    },
    "papermill": {
     "duration": 0.032002,
     "end_time": "2022-12-04T16:18:45.808866",
     "exception": false,
     "start_time": "2022-12-04T16:18:45.776864",
     "status": "completed"
    },
    "tags": []
   },
   "outputs": [
    {
     "name": "stdout",
     "output_type": "stream",
     "text": [
      "Our Discriminator model output:torch.Size([16, 1])\n"
     ]
    }
   ],
   "source": [
    "model_discriminator = Discriminator(params).to(device)\n",
    "\n",
    "model_discriminator_output = model_discriminator(x)\n",
    "\n",
    "print(\"Our Discriminator model output:{}\".format(model_discriminator_output.shape))\n"
   ]
  },
  {
   "cell_type": "code",
   "execution_count": 30,
   "id": "8ed263ae",
   "metadata": {
    "execution": {
     "iopub.execute_input": "2022-12-04T16:18:45.833796Z",
     "iopub.status.busy": "2022-12-04T16:18:45.833521Z",
     "iopub.status.idle": "2022-12-04T16:18:45.839346Z",
     "shell.execute_reply": "2022-12-04T16:18:45.838378Z"
    },
    "papermill": {
     "duration": 0.020736,
     "end_time": "2022-12-04T16:18:45.841486",
     "exception": false,
     "start_time": "2022-12-04T16:18:45.820750",
     "status": "completed"
    },
    "tags": []
   },
   "outputs": [],
   "source": [
    "def weight_initialize(model):\n",
    "    className = model.__class__.__name__\n",
    "    \n",
    "    if className.find(\"Linear\")!= -1:\n",
    "        nn.init.normal_(model.weight.data, 0.0,0.02)# weight should always normalized value\n",
    "        nn.init.constant_(model.bias.data,0)\n",
    "        \n",
    "    if className.find(\"BatchNorm\")!= -1:\n",
    "        nn.init.normal_(model.weight.data, 0.0,0.02)# weight should always normalized value\n",
    "        nn.init.constant_(model.bias.data,0)\n",
    "            "
   ]
  },
  {
   "cell_type": "code",
   "execution_count": 31,
   "id": "27d883fc",
   "metadata": {
    "execution": {
     "iopub.execute_input": "2022-12-04T16:18:45.867055Z",
     "iopub.status.busy": "2022-12-04T16:18:45.866246Z",
     "iopub.status.idle": "2022-12-04T16:18:45.875060Z",
     "shell.execute_reply": "2022-12-04T16:18:45.874078Z"
    },
    "papermill": {
     "duration": 0.023701,
     "end_time": "2022-12-04T16:18:45.877032",
     "exception": false,
     "start_time": "2022-12-04T16:18:45.853331",
     "status": "completed"
    },
    "tags": []
   },
   "outputs": [
    {
     "data": {
      "text/plain": [
       "Generator(\n",
       "  (model): Sequential(\n",
       "    (0): Linear(in_features=100, out_features=128, bias=True)\n",
       "    (1): LeakyReLU(negative_slope=0.2)\n",
       "    (2): Linear(in_features=128, out_features=256, bias=True)\n",
       "    (3): BatchNorm1d(256, eps=0.8, momentum=0.1, affine=True, track_running_stats=True)\n",
       "    (4): LeakyReLU(negative_slope=0.2)\n",
       "    (5): Linear(in_features=256, out_features=512, bias=True)\n",
       "    (6): BatchNorm1d(512, eps=0.8, momentum=0.1, affine=True, track_running_stats=True)\n",
       "    (7): LeakyReLU(negative_slope=0.2)\n",
       "    (8): Linear(in_features=512, out_features=1024, bias=True)\n",
       "    (9): BatchNorm1d(1024, eps=0.8, momentum=0.1, affine=True, track_running_stats=True)\n",
       "    (10): LeakyReLU(negative_slope=0.2)\n",
       "    (11): Linear(in_features=1024, out_features=784, bias=True)\n",
       "    (12): Tanh()\n",
       "  )\n",
       ")"
      ]
     },
     "execution_count": 31,
     "metadata": {},
     "output_type": "execute_result"
    }
   ],
   "source": [
    "model_generator.apply(weight_initialize)\n"
   ]
  },
  {
   "cell_type": "code",
   "execution_count": 32,
   "id": "c7822d08",
   "metadata": {
    "execution": {
     "iopub.execute_input": "2022-12-04T16:18:45.902873Z",
     "iopub.status.busy": "2022-12-04T16:18:45.902141Z",
     "iopub.status.idle": "2022-12-04T16:18:45.908982Z",
     "shell.execute_reply": "2022-12-04T16:18:45.908068Z"
    },
    "papermill": {
     "duration": 0.021787,
     "end_time": "2022-12-04T16:18:45.910932",
     "exception": false,
     "start_time": "2022-12-04T16:18:45.889145",
     "status": "completed"
    },
    "tags": []
   },
   "outputs": [
    {
     "data": {
      "text/plain": [
       "Discriminator(\n",
       "  (model): Sequential(\n",
       "    (0): Linear(in_features=784, out_features=512, bias=True)\n",
       "    (1): LeakyReLU(negative_slope=0.2)\n",
       "    (2): Linear(in_features=512, out_features=256, bias=True)\n",
       "    (3): LeakyReLU(negative_slope=0.2)\n",
       "    (4): Linear(in_features=256, out_features=128, bias=True)\n",
       "    (5): LeakyReLU(negative_slope=0.2)\n",
       "    (6): Linear(in_features=128, out_features=1, bias=True)\n",
       "    (7): Sigmoid()\n",
       "  )\n",
       ")"
      ]
     },
     "execution_count": 32,
     "metadata": {},
     "output_type": "execute_result"
    }
   ],
   "source": [
    "model_discriminator.apply(weight_initialize)"
   ]
  },
  {
   "cell_type": "markdown",
   "id": "2b02cf08",
   "metadata": {
    "papermill": {
     "duration": 0.01248,
     "end_time": "2022-12-04T16:18:45.935705",
     "exception": false,
     "start_time": "2022-12-04T16:18:45.923225",
     "status": "completed"
    },
    "tags": []
   },
   "source": [
    "What is Track_running_stats?\n",
    "track_running_stats (bool) – a boolean value that when set to True , this module tracks the running mean and variance, and when set to False , this module does not track such statistics, and initializes statistics buffers running_mean and running_var as None .\n",
    "\n",
    "What is BatchNorm1d?\n",
    "BatchNorm1d applies Batch Normalization over a 2D or 3D input (a batch of 1D inputs with a possible channel dimension). Two-dimensional BatchNormalization ( nn. BatchNorm2d ) applies it over a 4D input (a batch of 2D inputs with a possible channel dimension)\n",
    "\n",
    "num_features (int) –  num_features computes the number of features present in the input data set. It is just a wrapper for the ncol(to return the number of columns of the specified matrix) function\n",
    "\n",
    "eps (float) – a value added to the denominator for numerical stability. Default: 1e-5\n",
    "\n",
    "momentum (float) – the value used for the running_mean and running_var computation. Default: 0.1\n",
    "\n",
    "affine (bool) – a boolean value that when set to True, this module has learnable affine parameters, initialized the same way as done for batch normalization. Default: False.\n",
    "\n",
    "track_running_stats (bool) – a boolean value that when set to True, this module tracks the running mean and variance, and when set to False, this module does not track such statistics and always uses batch statistics in both training and eval modes. Default: False"
   ]
  },
  {
   "cell_type": "code",
   "execution_count": 33,
   "id": "33cceb65",
   "metadata": {
    "execution": {
     "iopub.execute_input": "2022-12-04T16:18:45.962115Z",
     "iopub.status.busy": "2022-12-04T16:18:45.961292Z",
     "iopub.status.idle": "2022-12-04T16:18:45.966132Z",
     "shell.execute_reply": "2022-12-04T16:18:45.965310Z"
    },
    "papermill": {
     "duration": 0.020242,
     "end_time": "2022-12-04T16:18:45.968173",
     "exception": false,
     "start_time": "2022-12-04T16:18:45.947931",
     "status": "completed"
    },
    "tags": []
   },
   "outputs": [],
   "source": [
    "lossFunction = nn.BCELoss() \n",
    "#The BCELoss() method measures the Binary Cross Entropy between the target and the input probabilities by creating a criterion(মানদণ্ড). This method is used for measuring the error of reconstruction, an auto-encoder is a good example of it."
   ]
  },
  {
   "cell_type": "code",
   "execution_count": 34,
   "id": "d6704025",
   "metadata": {
    "execution": {
     "iopub.execute_input": "2022-12-04T16:18:45.994207Z",
     "iopub.status.busy": "2022-12-04T16:18:45.993355Z",
     "iopub.status.idle": "2022-12-04T16:18:45.997993Z",
     "shell.execute_reply": "2022-12-04T16:18:45.997101Z"
    },
    "papermill": {
     "duration": 0.019538,
     "end_time": "2022-12-04T16:18:46.000002",
     "exception": false,
     "start_time": "2022-12-04T16:18:45.980464",
     "status": "completed"
    },
    "tags": []
   },
   "outputs": [],
   "source": [
    "learning_rate = 0.001\n",
    "beta1 = 0.5 #beta1 - beta1 hyperparameter for Adam optimizers. As described in paper, this number should be 0.5"
   ]
  },
  {
   "cell_type": "code",
   "execution_count": 35,
   "id": "0b8d88c6",
   "metadata": {
    "execution": {
     "iopub.execute_input": "2022-12-04T16:18:46.025898Z",
     "iopub.status.busy": "2022-12-04T16:18:46.025126Z",
     "iopub.status.idle": "2022-12-04T16:18:46.030554Z",
     "shell.execute_reply": "2022-12-04T16:18:46.029793Z"
    },
    "papermill": {
     "duration": 0.020312,
     "end_time": "2022-12-04T16:18:46.032531",
     "exception": false,
     "start_time": "2022-12-04T16:18:46.012219",
     "status": "completed"
    },
    "tags": []
   },
   "outputs": [],
   "source": [
    "optimizer_gen = optim.Adam(model_generator.parameters(),\n",
    "                       lr = learning_rate,\n",
    "                       betas = (beta1, 0.999))\n",
    "optimizer_dis = optim.Adam(model_discriminator.parameters(),\n",
    "                       lr = learning_rate,\n",
    "                       betas = (beta1, 0.999))"
   ]
  },
  {
   "cell_type": "code",
   "execution_count": null,
   "id": "4a1c9747",
   "metadata": {
    "papermill": {
     "duration": 0.01214,
     "end_time": "2022-12-04T16:18:46.056938",
     "exception": false,
     "start_time": "2022-12-04T16:18:46.044798",
     "status": "completed"
    },
    "tags": []
   },
   "outputs": [],
   "source": []
  },
  {
   "cell_type": "code",
   "execution_count": 36,
   "id": "f95d5cba",
   "metadata": {
    "execution": {
     "iopub.execute_input": "2022-12-04T16:18:46.083437Z",
     "iopub.status.busy": "2022-12-04T16:18:46.082517Z",
     "iopub.status.idle": "2022-12-04T16:18:46.086832Z",
     "shell.execute_reply": "2022-12-04T16:18:46.085905Z"
    },
    "papermill": {
     "duration": 0.019692,
     "end_time": "2022-12-04T16:18:46.088783",
     "exception": false,
     "start_time": "2022-12-04T16:18:46.069091",
     "status": "completed"
    },
    "tags": []
   },
   "outputs": [],
   "source": [
    "real_label = 1.0\n",
    "fake_label = 0.0"
   ]
  },
  {
   "cell_type": "code",
   "execution_count": 37,
   "id": "92a97932",
   "metadata": {
    "execution": {
     "iopub.execute_input": "2022-12-04T16:18:46.114980Z",
     "iopub.status.busy": "2022-12-04T16:18:46.114228Z",
     "iopub.status.idle": "2022-12-04T16:18:46.118360Z",
     "shell.execute_reply": "2022-12-04T16:18:46.117425Z"
    },
    "papermill": {
     "duration": 0.019057,
     "end_time": "2022-12-04T16:18:46.120283",
     "exception": false,
     "start_time": "2022-12-04T16:18:46.101226",
     "status": "completed"
    },
    "tags": []
   },
   "outputs": [],
   "source": [
    "noiseV = params['noise']\n",
    "num_epochs = 10"
   ]
  },
  {
   "cell_type": "code",
   "execution_count": 38,
   "id": "520df3e5",
   "metadata": {
    "execution": {
     "iopub.execute_input": "2022-12-04T16:18:46.146168Z",
     "iopub.status.busy": "2022-12-04T16:18:46.145356Z",
     "iopub.status.idle": "2022-12-04T16:18:46.149783Z",
     "shell.execute_reply": "2022-12-04T16:18:46.148983Z"
    },
    "papermill": {
     "duration": 0.019203,
     "end_time": "2022-12-04T16:18:46.151653",
     "exception": false,
     "start_time": "2022-12-04T16:18:46.132450",
     "status": "completed"
    },
    "tags": []
   },
   "outputs": [],
   "source": [
    "loss_history = {\"gen\":[],\n",
    "               \"dis\":[]}"
   ]
  },
  {
   "cell_type": "code",
   "execution_count": 39,
   "id": "49b252a3",
   "metadata": {
    "execution": {
     "iopub.execute_input": "2022-12-04T16:18:46.177189Z",
     "iopub.status.busy": "2022-12-04T16:18:46.176933Z",
     "iopub.status.idle": "2022-12-04T16:18:46.180811Z",
     "shell.execute_reply": "2022-12-04T16:18:46.179955Z"
    },
    "papermill": {
     "duration": 0.018738,
     "end_time": "2022-12-04T16:18:46.182733",
     "exception": false,
     "start_time": "2022-12-04T16:18:46.163995",
     "status": "completed"
    },
    "tags": []
   },
   "outputs": [],
   "source": [
    "batch_count = 0 # (ex: 629//32 = 19 btch)"
   ]
  },
  {
   "cell_type": "code",
   "execution_count": 40,
   "id": "22b9138a",
   "metadata": {
    "execution": {
     "iopub.execute_input": "2022-12-04T16:18:46.208059Z",
     "iopub.status.busy": "2022-12-04T16:18:46.207800Z",
     "iopub.status.idle": "2022-12-04T16:18:46.211396Z",
     "shell.execute_reply": "2022-12-04T16:18:46.210486Z"
    },
    "papermill": {
     "duration": 0.018464,
     "end_time": "2022-12-04T16:18:46.213344",
     "exception": false,
     "start_time": "2022-12-04T16:18:46.194880",
     "status": "completed"
    },
    "tags": []
   },
   "outputs": [],
   "source": [
    "#start_time = time.time()\n",
    "#start_time"
   ]
  },
  {
   "cell_type": "code",
   "execution_count": 41,
   "id": "82ac0ec3",
   "metadata": {
    "execution": {
     "iopub.execute_input": "2022-12-04T16:18:46.239373Z",
     "iopub.status.busy": "2022-12-04T16:18:46.239103Z",
     "iopub.status.idle": "2022-12-04T16:18:46.244754Z",
     "shell.execute_reply": "2022-12-04T16:18:46.243921Z"
    },
    "papermill": {
     "duration": 0.020696,
     "end_time": "2022-12-04T16:18:46.246618",
     "exception": false,
     "start_time": "2022-12-04T16:18:46.225922",
     "status": "completed"
    },
    "tags": []
   },
   "outputs": [
    {
     "data": {
      "text/plain": [
       "Generator(\n",
       "  (model): Sequential(\n",
       "    (0): Linear(in_features=100, out_features=128, bias=True)\n",
       "    (1): LeakyReLU(negative_slope=0.2)\n",
       "    (2): Linear(in_features=128, out_features=256, bias=True)\n",
       "    (3): BatchNorm1d(256, eps=0.8, momentum=0.1, affine=True, track_running_stats=True)\n",
       "    (4): LeakyReLU(negative_slope=0.2)\n",
       "    (5): Linear(in_features=256, out_features=512, bias=True)\n",
       "    (6): BatchNorm1d(512, eps=0.8, momentum=0.1, affine=True, track_running_stats=True)\n",
       "    (7): LeakyReLU(negative_slope=0.2)\n",
       "    (8): Linear(in_features=512, out_features=1024, bias=True)\n",
       "    (9): BatchNorm1d(1024, eps=0.8, momentum=0.1, affine=True, track_running_stats=True)\n",
       "    (10): LeakyReLU(negative_slope=0.2)\n",
       "    (11): Linear(in_features=1024, out_features=784, bias=True)\n",
       "    (12): Tanh()\n",
       "  )\n",
       ")"
      ]
     },
     "execution_count": 41,
     "metadata": {},
     "output_type": "execute_result"
    }
   ],
   "source": [
    "model_generator.train()"
   ]
  },
  {
   "cell_type": "code",
   "execution_count": 42,
   "id": "7737d6cc",
   "metadata": {
    "execution": {
     "iopub.execute_input": "2022-12-04T16:18:46.273211Z",
     "iopub.status.busy": "2022-12-04T16:18:46.272441Z",
     "iopub.status.idle": "2022-12-04T16:18:46.278759Z",
     "shell.execute_reply": "2022-12-04T16:18:46.277871Z"
    },
    "papermill": {
     "duration": 0.021656,
     "end_time": "2022-12-04T16:18:46.280765",
     "exception": false,
     "start_time": "2022-12-04T16:18:46.259109",
     "status": "completed"
    },
    "tags": []
   },
   "outputs": [
    {
     "data": {
      "text/plain": [
       "Discriminator(\n",
       "  (model): Sequential(\n",
       "    (0): Linear(in_features=784, out_features=512, bias=True)\n",
       "    (1): LeakyReLU(negative_slope=0.2)\n",
       "    (2): Linear(in_features=512, out_features=256, bias=True)\n",
       "    (3): LeakyReLU(negative_slope=0.2)\n",
       "    (4): Linear(in_features=256, out_features=128, bias=True)\n",
       "    (5): LeakyReLU(negative_slope=0.2)\n",
       "    (6): Linear(in_features=128, out_features=1, bias=True)\n",
       "    (7): Sigmoid()\n",
       "  )\n",
       ")"
      ]
     },
     "execution_count": 42,
     "metadata": {},
     "output_type": "execute_result"
    }
   ],
   "source": [
    "model_discriminator.train()"
   ]
  },
  {
   "cell_type": "code",
   "execution_count": 43,
   "id": "c47d2149",
   "metadata": {
    "execution": {
     "iopub.execute_input": "2022-12-04T16:18:46.307763Z",
     "iopub.status.busy": "2022-12-04T16:18:46.307032Z",
     "iopub.status.idle": "2022-12-04T16:21:30.095647Z",
     "shell.execute_reply": "2022-12-04T16:21:30.094320Z"
    },
    "papermill": {
     "duration": 163.80476,
     "end_time": "2022-12-04T16:21:30.098103",
     "exception": false,
     "start_time": "2022-12-04T16:18:46.293343",
     "status": "completed"
    },
    "tags": []
   },
   "outputs": [
    {
     "name": "stdout",
     "output_type": "stream",
     "text": [
      "Epochs : 1, G_loss: 100.0, D_loss:0.0\n",
      "Epochs : 2, G_loss: 100.0, D_loss:0.0\n",
      "Epochs : 3, G_loss: 100.0, D_loss:0.0\n",
      "Epochs : 4, G_loss: 100.0, D_loss:0.0\n",
      "Epochs : 5, G_loss: 100.0, D_loss:0.0\n",
      "Epochs : 6, G_loss: 100.0, D_loss:0.0\n",
      "Epochs : 7, G_loss: 100.0, D_loss:0.0\n",
      "Epochs : 8, G_loss: 100.0, D_loss:0.0\n",
      "Epochs : 9, G_loss: 100.0, D_loss:0.0\n"
     ]
    }
   ],
   "source": [
    "for epoch in range(num_epochs):\n",
    "    for x_batch, y_batch in trainDataLoader:\n",
    "        batch_size = x_batch.size(0)\n",
    "        x_batch = x_batch.to(device)\n",
    "        \n",
    "        y_batch_real = torch.Tensor(batch_size, 1).fill_(1.0).to(device)\n",
    "        y_batch_fake = torch.Tensor(batch_size, 1).fill_(0.0).to(device)\n",
    "        \n",
    "        \n",
    "        model_generator.zero_grad()\n",
    "        noise = torch.randn(batch_size, noiseV, device =device)\n",
    "        out_gen = model_generator(noise)\n",
    "        out_dis = model_discriminator(out_gen)\n",
    "        \n",
    "        loss_gen = lossFunction(out_dis, y_batch_real)\n",
    "        loss_gen.backward()\n",
    "        optimizer_gen.step()\n",
    "        \n",
    "        \n",
    "        model_discriminator.zero_grad()\n",
    "        out_real = model_discriminator(x_batch)\n",
    "        out_fake = model_discriminator(out_gen.detach())\n",
    "        \n",
    "        loss_real = lossFunction(out_real, y_batch_real) \n",
    "        loss_fake = lossFunction(out_fake, y_batch_fake) \n",
    "        \n",
    "        loss_dis = (loss_real + loss_fake )/2\n",
    "        \n",
    "        loss_dis.backward()\n",
    "        optimizer_dis.step()\n",
    "        \n",
    "        loss_history[\"gen\"].append(loss_gen.item())\n",
    "        loss_history[\"dis\"].append(loss_dis.item())\n",
    "        \n",
    "        batch_count +=1\n",
    "        \n",
    "        if batch_count%1000 == 0:\n",
    "            print(\"Epochs : {}, G_loss: {}, D_loss:{}\".format(epoch, loss_gen.item(),loss_dis.item()))\n",
    "        "
   ]
  },
  {
   "cell_type": "markdown",
   "id": "22d62089",
   "metadata": {
    "papermill": {
     "duration": 0.012956,
     "end_time": "2022-12-04T16:21:30.124358",
     "exception": false,
     "start_time": "2022-12-04T16:21:30.111402",
     "status": "completed"
    },
    "tags": []
   },
   "source": [
    "#zero_grad() restarts looping without losses from the last step if we use the gradient method for decreasing the error (or losses). If we do not use zero_grad() the loss will increase not decrease as required.\n",
    "\n",
    "=) no_grad()\" is like a loop where every tensor inside the loop will have requires_grad set to False.It means any tensor with gradient currently attached with the current computational graph is now detached from the current graph."
   ]
  },
  {
   "cell_type": "code",
   "execution_count": 44,
   "id": "74ac61af",
   "metadata": {
    "execution": {
     "iopub.execute_input": "2022-12-04T16:21:30.151673Z",
     "iopub.status.busy": "2022-12-04T16:21:30.150827Z",
     "iopub.status.idle": "2022-12-04T16:21:30.461486Z",
     "shell.execute_reply": "2022-12-04T16:21:30.460616Z"
    },
    "papermill": {
     "duration": 0.326376,
     "end_time": "2022-12-04T16:21:30.463495",
     "exception": false,
     "start_time": "2022-12-04T16:21:30.137119",
     "status": "completed"
    },
    "tags": []
   },
   "outputs": [
    {
     "data": {
      "image/png": "[encoded data removed]",
      "text/plain": [
       "<Figure size 720x360 with 1 Axes>"
      ]
     },
     "metadata": {
      "needs_background": "light"
     },
     "output_type": "display_data"
    }
   ],
   "source": [
    "plt.figure(figsize = (10,5))\n",
    "plt.title(\"Loss Approaches\")\n",
    "plt.plot(loss_history[\"gen\"], label = 'Gen.Loss')\n",
    "plt.plot(loss_history[\"dis\"], label = 'Dis. Loss')\n",
    "plt.xlabel(\"Counting of Batch\")\n",
    "plt.ylabel(\"Loss\")\n",
    "plt.title(\"Loss Visualization\")\n",
    "plt.grid(False)\n",
    "plt.legend()\n",
    "plt.tight_layout()\n",
    "plt.show()\n"
   ]
  },
  {
   "cell_type": "code",
   "execution_count": 45,
   "id": "faa707d6",
   "metadata": {
    "execution": {
     "iopub.execute_input": "2022-12-04T16:21:30.491148Z",
     "iopub.status.busy": "2022-12-04T16:21:30.490866Z",
     "iopub.status.idle": "2022-12-04T16:21:30.497226Z",
     "shell.execute_reply": "2022-12-04T16:21:30.496242Z"
    },
    "papermill": {
     "duration": 0.023337,
     "end_time": "2022-12-04T16:21:30.500218",
     "exception": false,
     "start_time": "2022-12-04T16:21:30.476881",
     "status": "completed"
    },
    "tags": []
   },
   "outputs": [
    {
     "data": {
      "text/plain": [
       "Generator(\n",
       "  (model): Sequential(\n",
       "    (0): Linear(in_features=100, out_features=128, bias=True)\n",
       "    (1): LeakyReLU(negative_slope=0.2)\n",
       "    (2): Linear(in_features=128, out_features=256, bias=True)\n",
       "    (3): BatchNorm1d(256, eps=0.8, momentum=0.1, affine=True, track_running_stats=True)\n",
       "    (4): LeakyReLU(negative_slope=0.2)\n",
       "    (5): Linear(in_features=256, out_features=512, bias=True)\n",
       "    (6): BatchNorm1d(512, eps=0.8, momentum=0.1, affine=True, track_running_stats=True)\n",
       "    (7): LeakyReLU(negative_slope=0.2)\n",
       "    (8): Linear(in_features=512, out_features=1024, bias=True)\n",
       "    (9): BatchNorm1d(1024, eps=0.8, momentum=0.1, affine=True, track_running_stats=True)\n",
       "    (10): LeakyReLU(negative_slope=0.2)\n",
       "    (11): Linear(in_features=1024, out_features=784, bias=True)\n",
       "    (12): Tanh()\n",
       "  )\n",
       ")"
      ]
     },
     "execution_count": 45,
     "metadata": {},
     "output_type": "execute_result"
    }
   ],
   "source": [
    "model_generator.eval()"
   ]
  },
  {
   "cell_type": "code",
   "execution_count": 46,
   "id": "02d7e319",
   "metadata": {
    "execution": {
     "iopub.execute_input": "2022-12-04T16:21:30.527537Z",
     "iopub.status.busy": "2022-12-04T16:21:30.527278Z",
     "iopub.status.idle": "2022-12-04T16:21:30.532640Z",
     "shell.execute_reply": "2022-12-04T16:21:30.531617Z"
    },
    "papermill": {
     "duration": 0.021594,
     "end_time": "2022-12-04T16:21:30.534892",
     "exception": false,
     "start_time": "2022-12-04T16:21:30.513298",
     "status": "completed"
    },
    "tags": []
   },
   "outputs": [],
   "source": [
    "with torch.no_grad():\n",
    "    fixed_noise = torch.randn(16,100, device = device)\n",
    "    Fakeimage = model_generator(fixed_noise).detach().cpu()"
   ]
  },
  {
   "cell_type": "code",
   "execution_count": 47,
   "id": "e70c1d70",
   "metadata": {
    "execution": {
     "iopub.execute_input": "2022-12-04T16:21:30.562250Z",
     "iopub.status.busy": "2022-12-04T16:21:30.561997Z",
     "iopub.status.idle": "2022-12-04T16:21:30.567604Z",
     "shell.execute_reply": "2022-12-04T16:21:30.566715Z"
    },
    "papermill": {
     "duration": 0.021448,
     "end_time": "2022-12-04T16:21:30.569481",
     "exception": false,
     "start_time": "2022-12-04T16:21:30.548033",
     "status": "completed"
    },
    "tags": []
   },
   "outputs": [
    {
     "data": {
      "text/plain": [
       "torch.Size([16, 1, 28, 28])"
      ]
     },
     "execution_count": 47,
     "metadata": {},
     "output_type": "execute_result"
    }
   ],
   "source": [
    "Fakeimage.shape"
   ]
  },
  {
   "cell_type": "code",
   "execution_count": 48,
   "id": "7e13a7c7",
   "metadata": {
    "collapsed": true,
    "execution": {
     "iopub.execute_input": "2022-12-04T16:21:30.596926Z",
     "iopub.status.busy": "2022-12-04T16:21:30.596645Z",
     "iopub.status.idle": "2022-12-04T16:21:30.606539Z",
     "shell.execute_reply": "2022-12-04T16:21:30.605595Z"
    },
    "jupyter": {
     "outputs_hidden": true
    },
    "papermill": {
     "duration": 0.02586,
     "end_time": "2022-12-04T16:21:30.608581",
     "exception": false,
     "start_time": "2022-12-04T16:21:30.582721",
     "status": "completed"
    },
    "tags": []
   },
   "outputs": [
    {
     "data": {
      "text/plain": [
       "tensor([[[[ 0.6709, -0.0214, -0.0630,  ...,  0.7423, -0.5227,  0.9045],\n",
       "          [-0.7432,  0.1204, -0.3276,  ...,  0.9557, -0.2985,  0.8899],\n",
       "          [ 0.8865,  0.8752,  0.7004,  ...,  0.7287,  0.5067,  0.7647],\n",
       "          ...,\n",
       "          [ 0.2177, -0.7725,  0.5908,  ...,  0.5791,  0.7361, -0.4868],\n",
       "          [ 0.9520, -0.4247,  0.1614,  ...,  0.6631,  0.4577,  0.8031],\n",
       "          [ 0.7253, -0.5797, -0.3401,  ...,  0.6929,  0.7604,  0.9419]]],\n",
       "\n",
       "\n",
       "        [[[ 0.6709, -0.0214, -0.0630,  ...,  0.7423, -0.5227,  0.9045],\n",
       "          [-0.7432,  0.1204, -0.3276,  ...,  0.9557, -0.2985,  0.8899],\n",
       "          [ 0.8865,  0.8752,  0.7004,  ...,  0.7287,  0.5067,  0.7647],\n",
       "          ...,\n",
       "          [ 0.2177, -0.7725,  0.5908,  ...,  0.5791,  0.7361, -0.4868],\n",
       "          [ 0.9520, -0.4247,  0.1614,  ...,  0.6631,  0.4577,  0.8031],\n",
       "          [ 0.7253, -0.5797, -0.3401,  ...,  0.6929,  0.7604,  0.9419]]],\n",
       "\n",
       "\n",
       "        [[[ 0.6709, -0.0214, -0.0630,  ...,  0.7423, -0.5227,  0.9045],\n",
       "          [-0.7432,  0.1204, -0.3276,  ...,  0.9557, -0.2985,  0.8899],\n",
       "          [ 0.8865,  0.8752,  0.7004,  ...,  0.7287,  0.5067,  0.7647],\n",
       "          ...,\n",
       "          [ 0.2177, -0.7725,  0.5908,  ...,  0.5791,  0.7361, -0.4868],\n",
       "          [ 0.9520, -0.4247,  0.1614,  ...,  0.6631,  0.4577,  0.8031],\n",
       "          [ 0.7253, -0.5797, -0.3401,  ...,  0.6929,  0.7604,  0.9419]]],\n",
       "\n",
       "\n",
       "        ...,\n",
       "\n",
       "\n",
       "        [[[ 0.6709, -0.0214, -0.0630,  ...,  0.7423, -0.5227,  0.9045],\n",
       "          [-0.7432,  0.1204, -0.3276,  ...,  0.9557, -0.2985,  0.8899],\n",
       "          [ 0.8865,  0.8752,  0.7004,  ...,  0.7287,  0.5067,  0.7647],\n",
       "          ...,\n",
       "          [ 0.2177, -0.7725,  0.5908,  ...,  0.5791,  0.7361, -0.4868],\n",
       "          [ 0.9520, -0.4247,  0.1614,  ...,  0.6631,  0.4577,  0.8031],\n",
       "          [ 0.7253, -0.5797, -0.3401,  ...,  0.6929,  0.7604,  0.9419]]],\n",
       "\n",
       "\n",
       "        [[[ 0.6709, -0.0214, -0.0630,  ...,  0.7423, -0.5227,  0.9045],\n",
       "          [-0.7432,  0.1204, -0.3276,  ...,  0.9557, -0.2985,  0.8899],\n",
       "          [ 0.8865,  0.8752,  0.7004,  ...,  0.7287,  0.5067,  0.7647],\n",
       "          ...,\n",
       "          [ 0.2177, -0.7725,  0.5908,  ...,  0.5791,  0.7361, -0.4868],\n",
       "          [ 0.9520, -0.4247,  0.1614,  ...,  0.6631,  0.4577,  0.8031],\n",
       "          [ 0.7253, -0.5797, -0.3401,  ...,  0.6929,  0.7604,  0.9419]]],\n",
       "\n",
       "\n",
       "        [[[ 0.6709, -0.0214, -0.0630,  ...,  0.7423, -0.5227,  0.9045],\n",
       "          [-0.7432,  0.1204, -0.3276,  ...,  0.9557, -0.2985,  0.8899],\n",
       "          [ 0.8865,  0.8752,  0.7004,  ...,  0.7287,  0.5067,  0.7647],\n",
       "          ...,\n",
       "          [ 0.2177, -0.7725,  0.5908,  ...,  0.5791,  0.7361, -0.4868],\n",
       "          [ 0.9520, -0.4247,  0.1614,  ...,  0.6631,  0.4577,  0.8031],\n",
       "          [ 0.7253, -0.5797, -0.3401,  ...,  0.6929,  0.7604,  0.9419]]]])"
      ]
     },
     "execution_count": 48,
     "metadata": {},
     "output_type": "execute_result"
    }
   ],
   "source": [
    "Fakeimage"
   ]
  },
  {
   "cell_type": "code",
   "execution_count": 49,
   "id": "b22d5607",
   "metadata": {
    "execution": {
     "iopub.execute_input": "2022-12-04T16:21:30.637269Z",
     "iopub.status.busy": "2022-12-04T16:21:30.637011Z",
     "iopub.status.idle": "2022-12-04T16:21:31.334500Z",
     "shell.execute_reply": "2022-12-04T16:21:31.333563Z"
    },
    "papermill": {
     "duration": 0.713762,
     "end_time": "2022-12-04T16:21:31.336567",
     "exception": false,
     "start_time": "2022-12-04T16:21:30.622805",
     "status": "completed"
    },
    "tags": []
   },
   "outputs": [
    {
     "data": {
      "image/png": "[encoded data removed]",
      "text/plain": [
       "<Figure size 720x720 with 16 Axes>"
      ]
     },
     "metadata": {
      "needs_background": "light"
     },
     "output_type": "display_data"
    }
   ],
   "source": [
    "plt.figure(figsize=(10, 10))\n",
    "for i in range(16):\n",
    "    plt.subplot(4, 4, i+1)\n",
    "    plt.imshow(to_pil_image(0.5*Fakeimage[i]+0.5), cmap = \"BuPu\")\n",
    "    plt.axis('off')"
   ]
  },
  {
   "cell_type": "code",
   "execution_count": 50,
   "id": "6d311eaa",
   "metadata": {
    "execution": {
     "iopub.execute_input": "2022-12-04T16:21:31.366894Z",
     "iopub.status.busy": "2022-12-04T16:21:31.366579Z",
     "iopub.status.idle": "2022-12-04T16:21:31.940660Z",
     "shell.execute_reply": "2022-12-04T16:21:31.939615Z"
    },
    "papermill": {
     "duration": 0.591782,
     "end_time": "2022-12-04T16:21:31.942842",
     "exception": false,
     "start_time": "2022-12-04T16:21:31.351060",
     "status": "completed"
    },
    "tags": []
   },
   "outputs": [
    {
     "data": {
      "image/png": "[encoded data removed]",
      "text/plain": [
       "<Figure size 720x720 with 16 Axes>"
      ]
     },
     "metadata": {
      "needs_background": "light"
     },
     "output_type": "display_data"
    }
   ],
   "source": [
    "plt.figure(figsize=(10, 10))\n",
    "for i in range(16):\n",
    "    plt.subplot(4, 4, i+1)\n",
    "    plt.imshow(to_pil_image(0.5*Fakeimage[i]+0.5), cmap = \"gray\")\n",
    "    plt.axis('off')"
   ]
  },
  {
   "cell_type": "code",
   "execution_count": 51,
   "id": "26d27e82",
   "metadata": {
    "execution": {
     "iopub.execute_input": "2022-12-04T16:21:31.973185Z",
     "iopub.status.busy": "2022-12-04T16:21:31.972883Z",
     "iopub.status.idle": "2022-12-04T16:21:31.978791Z",
     "shell.execute_reply": "2022-12-04T16:21:31.977806Z"
    },
    "papermill": {
     "duration": 0.023472,
     "end_time": "2022-12-04T16:21:31.980866",
     "exception": false,
     "start_time": "2022-12-04T16:21:31.957394",
     "status": "completed"
    },
    "tags": []
   },
   "outputs": [],
   "source": [
    "with torch.no_grad():\n",
    "    fixed_noise = torch.randn(16, 1,28, 28, device = device)\n",
    "    Fakeimage1 = model_discriminator(fixed_noise).detach().cpu()"
   ]
  },
  {
   "cell_type": "code",
   "execution_count": 52,
   "id": "6985de2a",
   "metadata": {
    "execution": {
     "iopub.execute_input": "2022-12-04T16:21:32.010577Z",
     "iopub.status.busy": "2022-12-04T16:21:32.010289Z",
     "iopub.status.idle": "2022-12-04T16:21:32.017695Z",
     "shell.execute_reply": "2022-12-04T16:21:32.016749Z"
    },
    "papermill": {
     "duration": 0.024929,
     "end_time": "2022-12-04T16:21:32.019948",
     "exception": false,
     "start_time": "2022-12-04T16:21:31.995019",
     "status": "completed"
    },
    "tags": []
   },
   "outputs": [
    {
     "data": {
      "text/plain": [
       "tensor([[1.0006e-05],\n",
       "        [8.5801e-11],\n",
       "        [6.5705e-15],\n",
       "        [9.8035e-11],\n",
       "        [3.5291e-05],\n",
       "        [2.2143e-10],\n",
       "        [3.1153e-07],\n",
       "        [5.3864e-13],\n",
       "        [2.8624e-20],\n",
       "        [4.6526e-08],\n",
       "        [3.1981e-05],\n",
       "        [5.3254e-23],\n",
       "        [5.3972e-05],\n",
       "        [9.6350e-16],\n",
       "        [2.1087e-05],\n",
       "        [2.6558e-04]])"
      ]
     },
     "execution_count": 52,
     "metadata": {},
     "output_type": "execute_result"
    }
   ],
   "source": [
    "Fakeimage1"
   ]
  },
  {
   "cell_type": "code",
   "execution_count": 53,
   "id": "cddb3a34",
   "metadata": {
    "execution": {
     "iopub.execute_input": "2022-12-04T16:21:32.052384Z",
     "iopub.status.busy": "2022-12-04T16:21:32.052078Z",
     "iopub.status.idle": "2022-12-04T16:21:32.058127Z",
     "shell.execute_reply": "2022-12-04T16:21:32.057153Z"
    },
    "papermill": {
     "duration": 0.024567,
     "end_time": "2022-12-04T16:21:32.060202",
     "exception": false,
     "start_time": "2022-12-04T16:21:32.035635",
     "status": "completed"
    },
    "tags": []
   },
   "outputs": [
    {
     "data": {
      "text/plain": [
       "torch.Size([16, 1])"
      ]
     },
     "execution_count": 53,
     "metadata": {},
     "output_type": "execute_result"
    }
   ],
   "source": [
    "Fakeimage1.shape"
   ]
  },
  {
   "cell_type": "code",
   "execution_count": null,
   "id": "8479bd3b",
   "metadata": {
    "papermill": {
     "duration": 0.014199,
     "end_time": "2022-12-04T16:21:32.089583",
     "exception": false,
     "start_time": "2022-12-04T16:21:32.075384",
     "status": "completed"
    },
    "tags": []
   },
   "outputs": [],
   "source": []
  }
 ],
 "metadata": {
  "kernelspec": {
   "display_name": "Python 3",
   "language": "python",
   "name": "python3"
  },
  "language_info": {
   "codemirror_mode": {
    "name": "ipython",
    "version": 3
   },
   "file_extension": ".py",
   "mimetype": "text/x-python",
   "name": "python",
   "nbconvert_exporter": "python",
   "pygments_lexer": "ipython3",
   "version": "3.7.12"
  },
  "papermill": {
   "default_parameters": {},
   "duration": 183.330126,
   "end_time": "2022-12-04T16:21:33.228288",
   "environment_variables": {},
   "exception": null,
   "input_path": "__notebook__.ipynb",
   "output_path": "__notebook__.ipynb",
   "parameters": {},
   "start_time": "2022-12-04T16:18:29.898162",
   "version": "2.3.4"
  },
  "widgets": {
   "application/vnd.jupyter.widget-state+json": {
    "state": {
     "0b22ffe105564dc1b450b9a4fd594271": {
      "model_module": "@jupyter-widgets/controls",
      "model_module_version": "1.5.0",
      "model_name": "HTMLModel",
      "state": {
       "_dom_classes": [],
       "_model_module": "@jupyter-widgets/controls",
       "_model_module_version": "1.5.0",
       "_model_name": "HTMLModel",
       "_view_count": null,
       "_view_module": "@jupyter-widgets/controls",
       "_view_module_version": "1.5.0",
       "_view_name": "HTMLView",
       "description": "",
       "description_tooltip": null,
       "layout": "IPY_MODEL_b83d3afab65e47b3b2fbcc360aee7ae7",
       "placeholder": "​",
       "style": "IPY_MODEL_1eefaea599e9446384597e15cbfb203c",
       "value": ""
      }
     },
     "104905ce58694f1b8fce9db7b8c39d97": {
      "model_module": "@jupyter-widgets/controls",
      "model_module_version": "1.5.0",
      "model_name": "DescriptionStyleModel",
      "state": {
       "_model_module": "@jupyter-widgets/controls",
       "_model_module_version": "1.5.0",
       "_model_name": "DescriptionStyleModel",
       "_view_count": null,
       "_view_module": "@jupyter-widgets/base",
       "_view_module_version": "1.2.0",
       "_view_name": "StyleView",
       "description_width": ""
      }
     },
     "1eefaea599e9446384597e15cbfb203c": {
      "model_module": "@jupyter-widgets/controls",
      "model_module_version": "1.5.0",
      "model_name": "DescriptionStyleModel",
      "state": {
       "_model_module": "@jupyter-widgets/controls",
       "_model_module_version": "1.5.0",
       "_model_name": "DescriptionStyleModel",
       "_view_count": null,
       "_view_module": "@jupyter-widgets/base",
       "_view_module_version": "1.2.0",
       "_view_name": "StyleView",
       "description_width": ""
      }
     },
     "39102c12f97a4b62850af1a5afaf720a": {
      "model_module": "@jupyter-widgets/base",
      "model_module_version": "1.2.0",
      "model_name": "LayoutModel",
      "state": {
       "_model_module": "@jupyter-widgets/base",
       "_model_module_version": "1.2.0",
       "_model_name": "LayoutModel",
       "_view_count": null,
       "_view_module": "@jupyter-widgets/base",
       "_view_module_version": "1.2.0",
       "_view_name": "LayoutView",
       "align_content": null,
       "align_items": null,
       "align_self": null,
       "border": null,
       "bottom": null,
       "display": null,
       "flex": null,
       "flex_flow": null,
       "grid_area": null,
       "grid_auto_columns": null,
       "grid_auto_flow": null,
       "grid_auto_rows": null,
       "grid_column": null,
       "grid_gap": null,
       "grid_row": null,
       "grid_template_areas": null,
       "grid_template_columns": null,
       "grid_template_rows": null,
       "height": null,
       "justify_content": null,
       "justify_items": null,
       "left": null,
       "margin": null,
       "max_height": null,
       "max_width": null,
       "min_height": null,
       "min_width": null,
       "object_fit": null,
       "object_position": null,
       "order": null,
       "overflow": null,
       "overflow_x": null,
       "overflow_y": null,
       "padding": null,
       "right": null,
       "top": null,
       "visibility": null,
       "width": null
      }
     },
     "4342a13552c94845bc457e8e271de89b": {
      "model_module": "@jupyter-widgets/base",
      "model_module_version": "1.2.0",
      "model_name": "LayoutModel",
      "state": {
       "_model_module": "@jupyter-widgets/base",
       "_model_module_version": "1.2.0",
       "_model_name": "LayoutModel",
       "_view_count": null,
       "_view_module": "@jupyter-widgets/base",
       "_view_module_version": "1.2.0",
       "_view_name": "LayoutView",
       "align_content": null,
       "align_items": null,
       "align_self": null,
       "border": null,
       "bottom": null,
       "display": null,
       "flex": null,
       "flex_flow": null,
       "grid_area": null,
       "grid_auto_columns": null,
       "grid_auto_flow": null,
       "grid_auto_rows": null,
       "grid_column": null,
       "grid_gap": null,
       "grid_row": null,
       "grid_template_areas": null,
       "grid_template_columns": null,
       "grid_template_rows": null,
       "height": null,
       "justify_content": null,
       "justify_items": null,
       "left": null,
       "margin": null,
       "max_height": null,
       "max_width": null,
       "min_height": null,
       "min_width": null,
       "object_fit": null,
       "object_position": null,
       "order": null,
       "overflow": null,
       "overflow_x": null,
       "overflow_y": null,
       "padding": null,
       "right": null,
       "top": null,
       "visibility": null,
       "width": null
      }
     },
     "4752ef0d3108488ab3b925f38e0de259": {
      "model_module": "@jupyter-widgets/base",
      "model_module_version": "1.2.0",
      "model_name": "LayoutModel",
      "state": {
       "_model_module": "@jupyter-widgets/base",
       "_model_module_version": "1.2.0",
       "_model_name": "LayoutModel",
       "_view_count": null,
       "_view_module": "@jupyter-widgets/base",
       "_view_module_version": "1.2.0",
       "_view_name": "LayoutView",
       "align_content": null,
       "align_items": null,
       "align_self": null,
       "border": null,
       "bottom": null,
       "display": null,
       "flex": null,
       "flex_flow": null,
       "grid_area": null,
       "grid_auto_columns": null,
       "grid_auto_flow": null,
       "grid_auto_rows": null,
       "grid_column": null,
       "grid_gap": null,
       "grid_row": null,
       "grid_template_areas": null,
       "grid_template_columns": null,
       "grid_template_rows": null,
       "height": null,
       "justify_content": null,
       "justify_items": null,
       "left": null,
       "margin": null,
       "max_height": null,
       "max_width": null,
       "min_height": null,
       "min_width": null,
       "object_fit": null,
       "object_position": null,
       "order": null,
       "overflow": null,
       "overflow_x": null,
       "overflow_y": null,
       "padding": null,
       "right": null,
       "top": null,
       "visibility": null,
       "width": null
      }
     },
     "54b58bb991154bd5917fbfee4dd29ade": {
      "model_module": "@jupyter-widgets/controls",
      "model_module_version": "1.5.0",
      "model_name": "HTMLModel",
      "state": {
       "_dom_classes": [],
       "_model_module": "@jupyter-widgets/controls",
       "_model_module_version": "1.5.0",
       "_model_name": "HTMLModel",
       "_view_count": null,
       "_view_module": "@jupyter-widgets/controls",
       "_view_module_version": "1.5.0",
       "_view_name": "HTMLView",
       "description": "",
       "description_tooltip": null,
       "layout": "IPY_MODEL_fc7d85ff54cd46c5840cf571818e6e8d",
       "placeholder": "​",
       "style": "IPY_MODEL_baa0f832b08c4dd1b219afc3a571c687",
       "value": " 29696/? [00:00&lt;00:00, 1233416.04it/s]"
      }
     },
     "5982b6fdf39147649bb77ebff29d1ae0": {
      "model_module": "@jupyter-widgets/controls",
      "model_module_version": "1.5.0",
      "model_name": "FloatProgressModel",
      "state": {
       "_dom_classes": [],
       "_model_module": "@jupyter-widgets/controls",
       "_model_module_version": "1.5.0",
       "_model_name": "FloatProgressModel",
       "_view_count": null,
       "_view_module": "@jupyter-widgets/controls",
       "_view_module_version": "1.5.0",
       "_view_name": "ProgressView",
       "bar_style": "success",
       "description": "",
       "description_tooltip": null,
       "layout": "IPY_MODEL_7e47aab5eb5d4a7bad6181c058ce28bb",
       "max": 1648877.0,
       "min": 0.0,
       "orientation": "horizontal",
       "style": "IPY_MODEL_a111ec1524f846199ddca102580f09db",
       "value": 1648877.0
      }
     },
     "5c7519bdd0244c5282cd84f09dd0fa57": {
      "model_module": "@jupyter-widgets/controls",
      "model_module_version": "1.5.0",
      "model_name": "HTMLModel",
      "state": {
       "_dom_classes": [],
       "_model_module": "@jupyter-widgets/controls",
       "_model_module_version": "1.5.0",
       "_model_name": "HTMLModel",
       "_view_count": null,
       "_view_module": "@jupyter-widgets/controls",
       "_view_module_version": "1.5.0",
       "_view_name": "HTMLView",
       "description": "",
       "description_tooltip": null,
       "layout": "IPY_MODEL_4342a13552c94845bc457e8e271de89b",
       "placeholder": "​",
       "style": "IPY_MODEL_104905ce58694f1b8fce9db7b8c39d97",
       "value": " 1649664/? [00:00&lt;00:00, 13376519.67it/s]"
      }
     },
     "6085ae03fa4b4c179016458caf1d89af": {
      "model_module": "@jupyter-widgets/base",
      "model_module_version": "1.2.0",
      "model_name": "LayoutModel",
      "state": {
       "_model_module": "@jupyter-widgets/base",
       "_model_module_version": "1.2.0",
       "_model_name": "LayoutModel",
       "_view_count": null,
       "_view_module": "@jupyter-widgets/base",
       "_view_module_version": "1.2.0",
       "_view_name": "LayoutView",
       "align_content": null,
       "align_items": null,
       "align_self": null,
       "border": null,
       "bottom": null,
       "display": null,
       "flex": null,
       "flex_flow": null,
       "grid_area": null,
       "grid_auto_columns": null,
       "grid_auto_flow": null,
       "grid_auto_rows": null,
       "grid_column": null,
       "grid_gap": null,
       "grid_row": null,
       "grid_template_areas": null,
       "grid_template_columns": null,
       "grid_template_rows": null,
       "height": null,
       "justify_content": null,
       "justify_items": null,
       "left": null,
       "margin": null,
       "max_height": null,
       "max_width": null,
       "min_height": null,
       "min_width": null,
       "object_fit": null,
       "object_position": null,
       "order": null,
       "overflow": null,
       "overflow_x": null,
       "overflow_y": null,
       "padding": null,
       "right": null,
       "top": null,
       "visibility": null,
       "width": null
      }
     },
     "60a0bf1ee092496a8ff151d29f4c8ccb": {
      "model_module": "@jupyter-widgets/controls",
      "model_module_version": "1.5.0",
      "model_name": "DescriptionStyleModel",
      "state": {
       "_model_module": "@jupyter-widgets/controls",
       "_model_module_version": "1.5.0",
       "_model_name": "DescriptionStyleModel",
       "_view_count": null,
       "_view_module": "@jupyter-widgets/base",
       "_view_module_version": "1.2.0",
       "_view_name": "StyleView",
       "description_width": ""
      }
     },
     "635e6479e1574b0b8baa08d6e319f8c5": {
      "model_module": "@jupyter-widgets/controls",
      "model_module_version": "1.5.0",
      "model_name": "HTMLModel",
      "state": {
       "_dom_classes": [],
       "_model_module": "@jupyter-widgets/controls",
       "_model_module_version": "1.5.0",
       "_model_name": "HTMLModel",
       "_view_count": null,
       "_view_module": "@jupyter-widgets/controls",
       "_view_module_version": "1.5.0",
       "_view_name": "HTMLView",
       "description": "",
       "description_tooltip": null,
       "layout": "IPY_MODEL_4752ef0d3108488ab3b925f38e0de259",
       "placeholder": "​",
       "style": "IPY_MODEL_672dddaaaee34c2b810b97c79f89641a",
       "value": " 5120/? [00:00&lt;00:00, 220412.98it/s]"
      }
     },
     "672dddaaaee34c2b810b97c79f89641a": {
      "model_module": "@jupyter-widgets/controls",
      "model_module_version": "1.5.0",
      "model_name": "DescriptionStyleModel",
      "state": {
       "_model_module": "@jupyter-widgets/controls",
       "_model_module_version": "1.5.0",
       "_model_name": "DescriptionStyleModel",
       "_view_count": null,
       "_view_module": "@jupyter-widgets/base",
       "_view_module_version": "1.2.0",
       "_view_name": "StyleView",
       "description_width": ""
      }
     },
     "695ac2477c3644578fe4a6ce799814fd": {
      "model_module": "@jupyter-widgets/base",
      "model_module_version": "1.2.0",
      "model_name": "LayoutModel",
      "state": {
       "_model_module": "@jupyter-widgets/base",
       "_model_module_version": "1.2.0",
       "_model_name": "LayoutModel",
       "_view_count": null,
       "_view_module": "@jupyter-widgets/base",
       "_view_module_version": "1.2.0",
       "_view_name": "LayoutView",
       "align_content": null,
       "align_items": null,
       "align_self": null,
       "border": null,
       "bottom": null,
       "display": null,
       "flex": null,
       "flex_flow": null,
       "grid_area": null,
       "grid_auto_columns": null,
       "grid_auto_flow": null,
       "grid_auto_rows": null,
       "grid_column": null,
       "grid_gap": null,
       "grid_row": null,
       "grid_template_areas": null,
       "grid_template_columns": null,
       "grid_template_rows": null,
       "height": null,
       "justify_content": null,
       "justify_items": null,
       "left": null,
       "margin": null,
       "max_height": null,
       "max_width": null,
       "min_height": null,
       "min_width": null,
       "object_fit": null,
       "object_position": null,
       "order": null,
       "overflow": null,
       "overflow_x": null,
       "overflow_y": null,
       "padding": null,
       "right": null,
       "top": null,
       "visibility": null,
       "width": null
      }
     },
     "715f26c1ec964cfda3407a6851bcbf26": {
      "model_module": "@jupyter-widgets/base",
      "model_module_version": "1.2.0",
      "model_name": "LayoutModel",
      "state": {
       "_model_module": "@jupyter-widgets/base",
       "_model_module_version": "1.2.0",
       "_model_name": "LayoutModel",
       "_view_count": null,
       "_view_module": "@jupyter-widgets/base",
       "_view_module_version": "1.2.0",
       "_view_name": "LayoutView",
       "align_content": null,
       "align_items": null,
       "align_self": null,
       "border": null,
       "bottom": null,
       "display": null,
       "flex": null,
       "flex_flow": null,
       "grid_area": null,
       "grid_auto_columns": null,
       "grid_auto_flow": null,
       "grid_auto_rows": null,
       "grid_column": null,
       "grid_gap": null,
       "grid_row": null,
       "grid_template_areas": null,
       "grid_template_columns": null,
       "grid_template_rows": null,
       "height": null,
       "justify_content": null,
       "justify_items": null,
       "left": null,
       "margin": null,
       "max_height": null,
       "max_width": null,
       "min_height": null,
       "min_width": null,
       "object_fit": null,
       "object_position": null,
       "order": null,
       "overflow": null,
       "overflow_x": null,
       "overflow_y": null,
       "padding": null,
       "right": null,
       "top": null,
       "visibility": null,
       "width": null
      }
     },
     "7701dbe3100e4d2da510f51d0bc941c2": {
      "model_module": "@jupyter-widgets/base",
      "model_module_version": "1.2.0",
      "model_name": "LayoutModel",
      "state": {
       "_model_module": "@jupyter-widgets/base",
       "_model_module_version": "1.2.0",
       "_model_name": "LayoutModel",
       "_view_count": null,
       "_view_module": "@jupyter-widgets/base",
       "_view_module_version": "1.2.0",
       "_view_name": "LayoutView",
       "align_content": null,
       "align_items": null,
       "align_self": null,
       "border": null,
       "bottom": null,
       "display": null,
       "flex": null,
       "flex_flow": null,
       "grid_area": null,
       "grid_auto_columns": null,
       "grid_auto_flow": null,
       "grid_auto_rows": null,
       "grid_column": null,
       "grid_gap": null,
       "grid_row": null,
       "grid_template_areas": null,
       "grid_template_columns": null,
       "grid_template_rows": null,
       "height": null,
       "justify_content": null,
       "justify_items": null,
       "left": null,
       "margin": null,
       "max_height": null,
       "max_width": null,
       "min_height": null,
       "min_width": null,
       "object_fit": null,
       "object_position": null,
       "order": null,
       "overflow": null,
       "overflow_x": null,
       "overflow_y": null,
       "padding": null,
       "right": null,
       "top": null,
       "visibility": null,
       "width": null
      }
     },
     "7ad5d889b380434c84eaf93b4b903048": {
      "model_module": "@jupyter-widgets/controls",
      "model_module_version": "1.5.0",
      "model_name": "ProgressStyleModel",
      "state": {
       "_model_module": "@jupyter-widgets/controls",
       "_model_module_version": "1.5.0",
       "_model_name": "ProgressStyleModel",
       "_view_count": null,
       "_view_module": "@jupyter-widgets/base",
       "_view_module_version": "1.2.0",
       "_view_name": "StyleView",
       "bar_color": null,
       "description_width": ""
      }
     },
     "7bf35dfda35949dd91d208870d611cab": {
      "model_module": "@jupyter-widgets/controls",
      "model_module_version": "1.5.0",
      "model_name": "HBoxModel",
      "state": {
       "_dom_classes": [],
       "_model_module": "@jupyter-widgets/controls",
       "_model_module_version": "1.5.0",
       "_model_name": "HBoxModel",
       "_view_count": null,
       "_view_module": "@jupyter-widgets/controls",
       "_view_module_version": "1.5.0",
       "_view_name": "HBoxView",
       "box_style": "",
       "children": [
        "IPY_MODEL_e73e455e03454f62ba05844a4a8fa4f4",
        "IPY_MODEL_d07b0d2896e64c11a74ef22a5df43c83",
        "IPY_MODEL_635e6479e1574b0b8baa08d6e319f8c5"
       ],
       "layout": "IPY_MODEL_715f26c1ec964cfda3407a6851bcbf26"
      }
     },
     "7c4b49bbb59e4db0a001f0e63e0c77e7": {
      "model_module": "@jupyter-widgets/controls",
      "model_module_version": "1.5.0",
      "model_name": "DescriptionStyleModel",
      "state": {
       "_model_module": "@jupyter-widgets/controls",
       "_model_module_version": "1.5.0",
       "_model_name": "DescriptionStyleModel",
       "_view_count": null,
       "_view_module": "@jupyter-widgets/base",
       "_view_module_version": "1.2.0",
       "_view_name": "StyleView",
       "description_width": ""
      }
     },
     "7c8d444706bd43a28b89f8836b80f756": {
      "model_module": "@jupyter-widgets/base",
      "model_module_version": "1.2.0",
      "model_name": "LayoutModel",
      "state": {
       "_model_module": "@jupyter-widgets/base",
       "_model_module_version": "1.2.0",
       "_model_name": "LayoutModel",
       "_view_count": null,
       "_view_module": "@jupyter-widgets/base",
       "_view_module_version": "1.2.0",
       "_view_name": "LayoutView",
       "align_content": null,
       "align_items": null,
       "align_self": null,
       "border": null,
       "bottom": null,
       "display": null,
       "flex": null,
       "flex_flow": null,
       "grid_area": null,
       "grid_auto_columns": null,
       "grid_auto_flow": null,
       "grid_auto_rows": null,
       "grid_column": null,
       "grid_gap": null,
       "grid_row": null,
       "grid_template_areas": null,
       "grid_template_columns": null,
       "grid_template_rows": null,
       "height": null,
       "justify_content": null,
       "justify_items": null,
       "left": null,
       "margin": null,
       "max_height": null,
       "max_width": null,
       "min_height": null,
       "min_width": null,
       "object_fit": null,
       "object_position": null,
       "order": null,
       "overflow": null,
       "overflow_x": null,
       "overflow_y": null,
       "padding": null,
       "right": null,
       "top": null,
       "visibility": null,
       "width": null
      }
     },
     "7e17b5878c2d417484b32c551dff8874": {
      "model_module": "@jupyter-widgets/controls",
      "model_module_version": "1.5.0",
      "model_name": "HBoxModel",
      "state": {
       "_dom_classes": [],
       "_model_module": "@jupyter-widgets/controls",
       "_model_module_version": "1.5.0",
       "_model_name": "HBoxModel",
       "_view_count": null,
       "_view_module": "@jupyter-widgets/controls",
       "_view_module_version": "1.5.0",
       "_view_name": "HBoxView",
       "box_style": "",
       "children": [
        "IPY_MODEL_b1a1db1f79474c3abcd1423c01ddeb65",
        "IPY_MODEL_5982b6fdf39147649bb77ebff29d1ae0",
        "IPY_MODEL_5c7519bdd0244c5282cd84f09dd0fa57"
       ],
       "layout": "IPY_MODEL_6085ae03fa4b4c179016458caf1d89af"
      }
     },
     "7e47aab5eb5d4a7bad6181c058ce28bb": {
      "model_module": "@jupyter-widgets/base",
      "model_module_version": "1.2.0",
      "model_name": "LayoutModel",
      "state": {
       "_model_module": "@jupyter-widgets/base",
       "_model_module_version": "1.2.0",
       "_model_name": "LayoutModel",
       "_view_count": null,
       "_view_module": "@jupyter-widgets/base",
       "_view_module_version": "1.2.0",
       "_view_name": "LayoutView",
       "align_content": null,
       "align_items": null,
       "align_self": null,
       "border": null,
       "bottom": null,
       "display": null,
       "flex": null,
       "flex_flow": null,
       "grid_area": null,
       "grid_auto_columns": null,
       "grid_auto_flow": null,
       "grid_auto_rows": null,
       "grid_column": null,
       "grid_gap": null,
       "grid_row": null,
       "grid_template_areas": null,
       "grid_template_columns": null,
       "grid_template_rows": null,
       "height": null,
       "justify_content": null,
       "justify_items": null,
       "left": null,
       "margin": null,
       "max_height": null,
       "max_width": null,
       "min_height": null,
       "min_width": null,
       "object_fit": null,
       "object_position": null,
       "order": null,
       "overflow": null,
       "overflow_x": null,
       "overflow_y": null,
       "padding": null,
       "right": null,
       "top": null,
       "visibility": null,
       "width": null
      }
     },
     "82a69b872965405b96b03d82fdbb67db": {
      "model_module": "@jupyter-widgets/controls",
      "model_module_version": "1.5.0",
      "model_name": "ProgressStyleModel",
      "state": {
       "_model_module": "@jupyter-widgets/controls",
       "_model_module_version": "1.5.0",
       "_model_name": "ProgressStyleModel",
       "_view_count": null,
       "_view_module": "@jupyter-widgets/base",
       "_view_module_version": "1.2.0",
       "_view_name": "StyleView",
       "bar_color": null,
       "description_width": ""
      }
     },
     "882c736261b5476b845d69b2f972252f": {
      "model_module": "@jupyter-widgets/controls",
      "model_module_version": "1.5.0",
      "model_name": "HTMLModel",
      "state": {
       "_dom_classes": [],
       "_model_module": "@jupyter-widgets/controls",
       "_model_module_version": "1.5.0",
       "_model_name": "HTMLModel",
       "_view_count": null,
       "_view_module": "@jupyter-widgets/controls",
       "_view_module_version": "1.5.0",
       "_view_name": "HTMLView",
       "description": "",
       "description_tooltip": null,
       "layout": "IPY_MODEL_b5e98a2e083f4d4eae0f1e7df5b436e9",
       "placeholder": "​",
       "style": "IPY_MODEL_60a0bf1ee092496a8ff151d29f4c8ccb",
       "value": " 9913344/? [00:00&lt;00:00, 27401939.48it/s]"
      }
     },
     "8ee4a0cc9dba4c27872c49ef237f9ea8": {
      "model_module": "@jupyter-widgets/controls",
      "model_module_version": "1.5.0",
      "model_name": "FloatProgressModel",
      "state": {
       "_dom_classes": [],
       "_model_module": "@jupyter-widgets/controls",
       "_model_module_version": "1.5.0",
       "_model_name": "FloatProgressModel",
       "_view_count": null,
       "_view_module": "@jupyter-widgets/controls",
       "_view_module_version": "1.5.0",
       "_view_name": "ProgressView",
       "bar_style": "success",
       "description": "",
       "description_tooltip": null,
       "layout": "IPY_MODEL_dec7e4c682614e04933e22f73926e04c",
       "max": 28881.0,
       "min": 0.0,
       "orientation": "horizontal",
       "style": "IPY_MODEL_7ad5d889b380434c84eaf93b4b903048",
       "value": 28881.0
      }
     },
     "983d86d2204747b6bb0597b75199a8bd": {
      "model_module": "@jupyter-widgets/controls",
      "model_module_version": "1.5.0",
      "model_name": "HBoxModel",
      "state": {
       "_dom_classes": [],
       "_model_module": "@jupyter-widgets/controls",
       "_model_module_version": "1.5.0",
       "_model_name": "HBoxModel",
       "_view_count": null,
       "_view_module": "@jupyter-widgets/controls",
       "_view_module_version": "1.5.0",
       "_view_name": "HBoxView",
       "box_style": "",
       "children": [
        "IPY_MODEL_ba813305eb534c0dafdc5d8bb3001ca0",
        "IPY_MODEL_fef3a79b37e0476b8fb9c92354cc3f95",
        "IPY_MODEL_882c736261b5476b845d69b2f972252f"
       ],
       "layout": "IPY_MODEL_7c8d444706bd43a28b89f8836b80f756"
      }
     },
     "a111ec1524f846199ddca102580f09db": {
      "model_module": "@jupyter-widgets/controls",
      "model_module_version": "1.5.0",
      "model_name": "ProgressStyleModel",
      "state": {
       "_model_module": "@jupyter-widgets/controls",
       "_model_module_version": "1.5.0",
       "_model_name": "ProgressStyleModel",
       "_view_count": null,
       "_view_module": "@jupyter-widgets/base",
       "_view_module_version": "1.2.0",
       "_view_name": "StyleView",
       "bar_color": null,
       "description_width": ""
      }
     },
     "a36736fde1bc410b85b6b9d0a2a15d99": {
      "model_module": "@jupyter-widgets/controls",
      "model_module_version": "1.5.0",
      "model_name": "DescriptionStyleModel",
      "state": {
       "_model_module": "@jupyter-widgets/controls",
       "_model_module_version": "1.5.0",
       "_model_name": "DescriptionStyleModel",
       "_view_count": null,
       "_view_module": "@jupyter-widgets/base",
       "_view_module_version": "1.2.0",
       "_view_name": "StyleView",
       "description_width": ""
      }
     },
     "a4bac3b5ad354698941f680b5d1eeea1": {
      "model_module": "@jupyter-widgets/controls",
      "model_module_version": "1.5.0",
      "model_name": "HBoxModel",
      "state": {
       "_dom_classes": [],
       "_model_module": "@jupyter-widgets/controls",
       "_model_module_version": "1.5.0",
       "_model_name": "HBoxModel",
       "_view_count": null,
       "_view_module": "@jupyter-widgets/controls",
       "_view_module_version": "1.5.0",
       "_view_name": "HBoxView",
       "box_style": "",
       "children": [
        "IPY_MODEL_0b22ffe105564dc1b450b9a4fd594271",
        "IPY_MODEL_8ee4a0cc9dba4c27872c49ef237f9ea8",
        "IPY_MODEL_54b58bb991154bd5917fbfee4dd29ade"
       ],
       "layout": "IPY_MODEL_f9f4dcedf5f44a15a68e1a05a8cda577"
      }
     },
     "b1a1db1f79474c3abcd1423c01ddeb65": {
      "model_module": "@jupyter-widgets/controls",
      "model_module_version": "1.5.0",
      "model_name": "HTMLModel",
      "state": {
       "_dom_classes": [],
       "_model_module": "@jupyter-widgets/controls",
       "_model_module_version": "1.5.0",
       "_model_name": "HTMLModel",
       "_view_count": null,
       "_view_module": "@jupyter-widgets/controls",
       "_view_module_version": "1.5.0",
       "_view_name": "HTMLView",
       "description": "",
       "description_tooltip": null,
       "layout": "IPY_MODEL_f232e92efbdd45abb44f1d7c8f7a00d0",
       "placeholder": "​",
       "style": "IPY_MODEL_b7a6ae23f6e341e2ba43fa70a8a3d06e",
       "value": ""
      }
     },
     "b5e98a2e083f4d4eae0f1e7df5b436e9": {
      "model_module": "@jupyter-widgets/base",
      "model_module_version": "1.2.0",
      "model_name": "LayoutModel",
      "state": {
       "_model_module": "@jupyter-widgets/base",
       "_model_module_version": "1.2.0",
       "_model_name": "LayoutModel",
       "_view_count": null,
       "_view_module": "@jupyter-widgets/base",
       "_view_module_version": "1.2.0",
       "_view_name": "LayoutView",
       "align_content": null,
       "align_items": null,
       "align_self": null,
       "border": null,
       "bottom": null,
       "display": null,
       "flex": null,
       "flex_flow": null,
       "grid_area": null,
       "grid_auto_columns": null,
       "grid_auto_flow": null,
       "grid_auto_rows": null,
       "grid_column": null,
       "grid_gap": null,
       "grid_row": null,
       "grid_template_areas": null,
       "grid_template_columns": null,
       "grid_template_rows": null,
       "height": null,
       "justify_content": null,
       "justify_items": null,
       "left": null,
       "margin": null,
       "max_height": null,
       "max_width": null,
       "min_height": null,
       "min_width": null,
       "object_fit": null,
       "object_position": null,
       "order": null,
       "overflow": null,
       "overflow_x": null,
       "overflow_y": null,
       "padding": null,
       "right": null,
       "top": null,
       "visibility": null,
       "width": null
      }
     },
     "b7a6ae23f6e341e2ba43fa70a8a3d06e": {
      "model_module": "@jupyter-widgets/controls",
      "model_module_version": "1.5.0",
      "model_name": "DescriptionStyleModel",
      "state": {
       "_model_module": "@jupyter-widgets/controls",
       "_model_module_version": "1.5.0",
       "_model_name": "DescriptionStyleModel",
       "_view_count": null,
       "_view_module": "@jupyter-widgets/base",
       "_view_module_version": "1.2.0",
       "_view_name": "StyleView",
       "description_width": ""
      }
     },
     "b83d3afab65e47b3b2fbcc360aee7ae7": {
      "model_module": "@jupyter-widgets/base",
      "model_module_version": "1.2.0",
      "model_name": "LayoutModel",
      "state": {
       "_model_module": "@jupyter-widgets/base",
       "_model_module_version": "1.2.0",
       "_model_name": "LayoutModel",
       "_view_count": null,
       "_view_module": "@jupyter-widgets/base",
       "_view_module_version": "1.2.0",
       "_view_name": "LayoutView",
       "align_content": null,
       "align_items": null,
       "align_self": null,
       "border": null,
       "bottom": null,
       "display": null,
       "flex": null,
       "flex_flow": null,
       "grid_area": null,
       "grid_auto_columns": null,
       "grid_auto_flow": null,
       "grid_auto_rows": null,
       "grid_column": null,
       "grid_gap": null,
       "grid_row": null,
       "grid_template_areas": null,
       "grid_template_columns": null,
       "grid_template_rows": null,
       "height": null,
       "justify_content": null,
       "justify_items": null,
       "left": null,
       "margin": null,
       "max_height": null,
       "max_width": null,
       "min_height": null,
       "min_width": null,
       "object_fit": null,
       "object_position": null,
       "order": null,
       "overflow": null,
       "overflow_x": null,
       "overflow_y": null,
       "padding": null,
       "right": null,
       "top": null,
       "visibility": null,
       "width": null
      }
     },
     "ba813305eb534c0dafdc5d8bb3001ca0": {
      "model_module": "@jupyter-widgets/controls",
      "model_module_version": "1.5.0",
      "model_name": "HTMLModel",
      "state": {
       "_dom_classes": [],
       "_model_module": "@jupyter-widgets/controls",
       "_model_module_version": "1.5.0",
       "_model_name": "HTMLModel",
       "_view_count": null,
       "_view_module": "@jupyter-widgets/controls",
       "_view_module_version": "1.5.0",
       "_view_name": "HTMLView",
       "description": "",
       "description_tooltip": null,
       "layout": "IPY_MODEL_e57d0276351e48a7b06e23c2d332836e",
       "placeholder": "​",
       "style": "IPY_MODEL_7c4b49bbb59e4db0a001f0e63e0c77e7",
       "value": ""
      }
     },
     "baa0f832b08c4dd1b219afc3a571c687": {
      "model_module": "@jupyter-widgets/controls",
      "model_module_version": "1.5.0",
      "model_name": "DescriptionStyleModel",
      "state": {
       "_model_module": "@jupyter-widgets/controls",
       "_model_module_version": "1.5.0",
       "_model_name": "DescriptionStyleModel",
       "_view_count": null,
       "_view_module": "@jupyter-widgets/base",
       "_view_module_version": "1.2.0",
       "_view_name": "StyleView",
       "description_width": ""
      }
     },
     "d07b0d2896e64c11a74ef22a5df43c83": {
      "model_module": "@jupyter-widgets/controls",
      "model_module_version": "1.5.0",
      "model_name": "FloatProgressModel",
      "state": {
       "_dom_classes": [],
       "_model_module": "@jupyter-widgets/controls",
       "_model_module_version": "1.5.0",
       "_model_name": "FloatProgressModel",
       "_view_count": null,
       "_view_module": "@jupyter-widgets/controls",
       "_view_module_version": "1.5.0",
       "_view_name": "ProgressView",
       "bar_style": "success",
       "description": "",
       "description_tooltip": null,
       "layout": "IPY_MODEL_39102c12f97a4b62850af1a5afaf720a",
       "max": 4542.0,
       "min": 0.0,
       "orientation": "horizontal",
       "style": "IPY_MODEL_e1f4fd7627b04d33979f89c42233a96b",
       "value": 4542.0
      }
     },
     "dec7e4c682614e04933e22f73926e04c": {
      "model_module": "@jupyter-widgets/base",
      "model_module_version": "1.2.0",
      "model_name": "LayoutModel",
      "state": {
       "_model_module": "@jupyter-widgets/base",
       "_model_module_version": "1.2.0",
       "_model_name": "LayoutModel",
       "_view_count": null,
       "_view_module": "@jupyter-widgets/base",
       "_view_module_version": "1.2.0",
       "_view_name": "LayoutView",
       "align_content": null,
       "align_items": null,
       "align_self": null,
       "border": null,
       "bottom": null,
       "display": null,
       "flex": null,
       "flex_flow": null,
       "grid_area": null,
       "grid_auto_columns": null,
       "grid_auto_flow": null,
       "grid_auto_rows": null,
       "grid_column": null,
       "grid_gap": null,
       "grid_row": null,
       "grid_template_areas": null,
       "grid_template_columns": null,
       "grid_template_rows": null,
       "height": null,
       "justify_content": null,
       "justify_items": null,
       "left": null,
       "margin": null,
       "max_height": null,
       "max_width": null,
       "min_height": null,
       "min_width": null,
       "object_fit": null,
       "object_position": null,
       "order": null,
       "overflow": null,
       "overflow_x": null,
       "overflow_y": null,
       "padding": null,
       "right": null,
       "top": null,
       "visibility": null,
       "width": null
      }
     },
     "e1f4fd7627b04d33979f89c42233a96b": {
      "model_module": "@jupyter-widgets/controls",
      "model_module_version": "1.5.0",
      "model_name": "ProgressStyleModel",
      "state": {
       "_model_module": "@jupyter-widgets/controls",
       "_model_module_version": "1.5.0",
       "_model_name": "ProgressStyleModel",
       "_view_count": null,
       "_view_module": "@jupyter-widgets/base",
       "_view_module_version": "1.2.0",
       "_view_name": "StyleView",
       "bar_color": null,
       "description_width": ""
      }
     },
     "e57d0276351e48a7b06e23c2d332836e": {
      "model_module": "@jupyter-widgets/base",
      "model_module_version": "1.2.0",
      "model_name": "LayoutModel",
      "state": {
       "_model_module": "@jupyter-widgets/base",
       "_model_module_version": "1.2.0",
       "_model_name": "LayoutModel",
       "_view_count": null,
       "_view_module": "@jupyter-widgets/base",
       "_view_module_version": "1.2.0",
       "_view_name": "LayoutView",
       "align_content": null,
       "align_items": null,
       "align_self": null,
       "border": null,
       "bottom": null,
       "display": null,
       "flex": null,
       "flex_flow": null,
       "grid_area": null,
       "grid_auto_columns": null,
       "grid_auto_flow": null,
       "grid_auto_rows": null,
       "grid_column": null,
       "grid_gap": null,
       "grid_row": null,
       "grid_template_areas": null,
       "grid_template_columns": null,
       "grid_template_rows": null,
       "height": null,
       "justify_content": null,
       "justify_items": null,
       "left": null,
       "margin": null,
       "max_height": null,
       "max_width": null,
       "min_height": null,
       "min_width": null,
       "object_fit": null,
       "object_position": null,
       "order": null,
       "overflow": null,
       "overflow_x": null,
       "overflow_y": null,
       "padding": null,
       "right": null,
       "top": null,
       "visibility": null,
       "width": null
      }
     },
     "e73e455e03454f62ba05844a4a8fa4f4": {
      "model_module": "@jupyter-widgets/controls",
      "model_module_version": "1.5.0",
      "model_name": "HTMLModel",
      "state": {
       "_dom_classes": [],
       "_model_module": "@jupyter-widgets/controls",
       "_model_module_version": "1.5.0",
       "_model_name": "HTMLModel",
       "_view_count": null,
       "_view_module": "@jupyter-widgets/controls",
       "_view_module_version": "1.5.0",
       "_view_name": "HTMLView",
       "description": "",
       "description_tooltip": null,
       "layout": "IPY_MODEL_7701dbe3100e4d2da510f51d0bc941c2",
       "placeholder": "​",
       "style": "IPY_MODEL_a36736fde1bc410b85b6b9d0a2a15d99",
       "value": ""
      }
     },
     "f232e92efbdd45abb44f1d7c8f7a00d0": {
      "model_module": "@jupyter-widgets/base",
      "model_module_version": "1.2.0",
      "model_name": "LayoutModel",
      "state": {
       "_model_module": "@jupyter-widgets/base",
       "_model_module_version": "1.2.0",
       "_model_name": "LayoutModel",
       "_view_count": null,
       "_view_module": "@jupyter-widgets/base",
       "_view_module_version": "1.2.0",
       "_view_name": "LayoutView",
       "align_content": null,
       "align_items": null,
       "align_self": null,
       "border": null,
       "bottom": null,
       "display": null,
       "flex": null,
       "flex_flow": null,
       "grid_area": null,
       "grid_auto_columns": null,
       "grid_auto_flow": null,
       "grid_auto_rows": null,
       "grid_column": null,
       "grid_gap": null,
       "grid_row": null,
       "grid_template_areas": null,
       "grid_template_columns": null,
       "grid_template_rows": null,
       "height": null,
       "justify_content": null,
       "justify_items": null,
       "left": null,
       "margin": null,
       "max_height": null,
       "max_width": null,
       "min_height": null,
       "min_width": null,
       "object_fit": null,
       "object_position": null,
       "order": null,
       "overflow": null,
       "overflow_x": null,
       "overflow_y": null,
       "padding": null,
       "right": null,
       "top": null,
       "visibility": null,
       "width": null
      }
     },
     "f9f4dcedf5f44a15a68e1a05a8cda577": {
      "model_module": "@jupyter-widgets/base",
      "model_module_version": "1.2.0",
      "model_name": "LayoutModel",
      "state": {
       "_model_module": "@jupyter-widgets/base",
       "_model_module_version": "1.2.0",
       "_model_name": "LayoutModel",
       "_view_count": null,
       "_view_module": "@jupyter-widgets/base",
       "_view_module_version": "1.2.0",
       "_view_name": "LayoutView",
       "align_content": null,
       "align_items": null,
       "align_self": null,
       "border": null,
       "bottom": null,
       "display": null,
       "flex": null,
       "flex_flow": null,
       "grid_area": null,
       "grid_auto_columns": null,
       "grid_auto_flow": null,
       "grid_auto_rows": null,
       "grid_column": null,
       "grid_gap": null,
       "grid_row": null,
       "grid_template_areas": null,
       "grid_template_columns": null,
       "grid_template_rows": null,
       "height": null,
       "justify_content": null,
       "justify_items": null,
       "left": null,
       "margin": null,
       "max_height": null,
       "max_width": null,
       "min_height": null,
       "min_width": null,
       "object_fit": null,
       "object_position": null,
       "order": null,
       "overflow": null,
       "overflow_x": null,
       "overflow_y": null,
       "padding": null,
       "right": null,
       "top": null,
       "visibility": null,
       "width": null
      }
     },
     "fc7d85ff54cd46c5840cf571818e6e8d": {
      "model_module": "@jupyter-widgets/base",
      "model_module_version": "1.2.0",
      "model_name": "LayoutModel",
      "state": {
       "_model_module": "@jupyter-widgets/base",
       "_model_module_version": "1.2.0",
       "_model_name": "LayoutModel",
       "_view_count": null,
       "_view_module": "@jupyter-widgets/base",
       "_view_module_version": "1.2.0",
       "_view_name": "LayoutView",
       "align_content": null,
       "align_items": null,
       "align_self": null,
       "border": null,
       "bottom": null,
       "display": null,
       "flex": null,
       "flex_flow": null,
       "grid_area": null,
       "grid_auto_columns": null,
       "grid_auto_flow": null,
       "grid_auto_rows": null,
       "grid_column": null,
       "grid_gap": null,
       "grid_row": null,
       "grid_template_areas": null,
       "grid_template_columns": null,
       "grid_template_rows": null,
       "height": null,
       "justify_content": null,
       "justify_items": null,
       "left": null,
       "margin": null,
       "max_height": null,
       "max_width": null,
       "min_height": null,
       "min_width": null,
       "object_fit": null,
       "object_position": null,
       "order": null,
       "overflow": null,
       "overflow_x": null,
       "overflow_y": null,
       "padding": null,
       "right": null,
       "top": null,
       "visibility": null,
       "width": null
      }
     },
     "fef3a79b37e0476b8fb9c92354cc3f95": {
      "model_module": "@jupyter-widgets/controls",
      "model_module_version": "1.5.0",
      "model_name": "FloatProgressModel",
      "state": {
       "_dom_classes": [],
       "_model_module": "@jupyter-widgets/controls",
       "_model_module_version": "1.5.0",
       "_model_name": "FloatProgressModel",
       "_view_count": null,
       "_view_module": "@jupyter-widgets/controls",
       "_view_module_version": "1.5.0",
       "_view_name": "ProgressView",
       "bar_style": "success",
       "description": "",
       "description_tooltip": null,
       "layout": "IPY_MODEL_695ac2477c3644578fe4a6ce799814fd",
       "max": 9912422.0,
       "min": 0.0,
       "orientation": "horizontal",
       "style": "IPY_MODEL_82a69b872965405b96b03d82fdbb67db",
       "value": 9912422.0
      }
     }
    },
    "version_major": 2,
    "version_minor": 0
   }
  }
 },
 "nbformat": 4,
 "nbformat_minor": 5
}
